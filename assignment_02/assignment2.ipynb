{
  "nbformat": 4,
  "nbformat_minor": 0,
  "metadata": {
    "colab": {
      "name": "assignment2.ipynb",
      "provenance": [],
      "collapsed_sections": [],
      "authorship_tag": "ABX9TyN5pLuCAnVubGDxXPyfgNNx",
      "include_colab_link": true
    },
    "kernelspec": {
      "name": "python3",
      "display_name": "Python 3"
    },
    "language_info": {
      "name": "python"
    }
  },
  "cells": [
    {
      "cell_type": "markdown",
      "metadata": {
        "id": "view-in-github",
        "colab_type": "text"
      },
      "source": [
        "<a href=\"https://colab.research.google.com/github/nazia-noor/DATA690_Nazia/blob/main/assignment_02/assignment2.ipynb\" target=\"_parent\"><img src=\"https://colab.research.google.com/assets/colab-badge.svg\" alt=\"Open In Colab\"/></a>"
      ]
    },
    {
      "cell_type": "markdown",
      "metadata": {
        "id": "W99WQbjRjx73"
      },
      "source": [
        "## 1.Accepting user input \n",
        "- user input to enter 10 integers.\n",
        "- return a message with \"Only integer is allowed.Please try again\" if the user enter anything other than only integer and  remind her that only integers are allowed.\n",
        "- print the 10 integers at the end.\n",
        "\n"
      ]
    },
    {
      "cell_type": "code",
      "metadata": {
        "colab": {
          "base_uri": "https://localhost:8080/"
        },
        "id": "jqco6KPR79s2",
        "outputId": "dc66e2c5-d977-483c-9fcf-d4e0790a44c5"
      },
      "source": [
        "lst = []\n",
        "while len(lst)<10:\n",
        "  x= input (\"Enter an integer: \")\n",
        "  try:\n",
        "    y = int(x)\n",
        "    lst.append(y)\n",
        "    print(\"got integer: \",y)\n",
        "  except:\n",
        "    print(\"Only integer is allowed.Please try again\")\n",
        "  "
      ],
      "execution_count": 1,
      "outputs": [
        {
          "output_type": "stream",
          "name": "stdout",
          "text": [
            "Enter an integer: 9\n",
            "got integer:  9\n",
            "Enter an integer: -2\n",
            "got integer:  -2\n",
            "Enter an integer: 12\n",
            "got integer:  12\n",
            "Enter an integer: jhgj\n",
            "Only integer is allowed.Please try again\n",
            "Enter an integer: 90\n",
            "got integer:  90\n",
            "Enter an integer: nazia\n",
            "Only integer is allowed.Please try again\n",
            "Enter an integer: 6\n",
            "got integer:  6\n",
            "Enter an integer: umbc\n",
            "Only integer is allowed.Please try again\n",
            "Enter an integer: 80\n",
            "got integer:  80\n",
            "Enter an integer: 12\n",
            "got integer:  12\n",
            "Enter an integer: 30\n",
            "got integer:  30\n",
            "Enter an integer: 17\n",
            "got integer:  17\n",
            "Enter an integer: 40\n",
            "got integer:  40\n"
          ]
        }
      ]
    },
    {
      "cell_type": "code",
      "metadata": {
        "colab": {
          "base_uri": "https://localhost:8080/"
        },
        "id": "b0Mycs7M9Et8",
        "outputId": "c0a9eea9-fdb2-4025-ae2d-dbfbb213692e"
      },
      "source": [
        "print(\"The list of 10 integer values: \",lst)"
      ],
      "execution_count": 2,
      "outputs": [
        {
          "output_type": "stream",
          "name": "stdout",
          "text": [
            "The list of 10 integer values:  [9, -2, 12, 90, 6, 80, 12, 30, 17, 40]\n"
          ]
        }
      ]
    },
    {
      "cell_type": "markdown",
      "metadata": {
        "id": "D3Xo2_qr5eIo"
      },
      "source": [
        "## 2. Calculate \"Mean\""
      ]
    },
    {
      "cell_type": "code",
      "metadata": {
        "colab": {
          "base_uri": "https://localhost:8080/"
        },
        "id": "e5wWgAlBGRJM",
        "outputId": "ed0b9ced-c6f5-44f5-9171-86616ebcadf4"
      },
      "source": [
        "# first calculate the total of all the integer values)\n",
        "total=0\n",
        "for i in lst:\n",
        "  total += i\n",
        "print(\"Total of all the values: \",total)\n"
      ],
      "execution_count": 3,
      "outputs": [
        {
          "output_type": "stream",
          "name": "stdout",
          "text": [
            "Total of all the values:  294\n"
          ]
        }
      ]
    },
    {
      "cell_type": "code",
      "metadata": {
        "colab": {
          "base_uri": "https://localhost:8080/"
        },
        "id": "oeZJLFdiHLm6",
        "outputId": "95e83733-8461-46c1-dbdf-180cbdcc9428"
      },
      "source": [
        "#Calculating the mean\n",
        "a = total/len(lst)\n",
        "print(\"Mean of the values: \", a)"
      ],
      "execution_count": 4,
      "outputs": [
        {
          "output_type": "stream",
          "name": "stdout",
          "text": [
            "Mean of the values:  29.4\n"
          ]
        }
      ]
    },
    {
      "cell_type": "markdown",
      "metadata": {
        "id": "KikJwe4758Iz"
      },
      "source": [
        "## 3.Calculate \"Minimum\""
      ]
    },
    {
      "cell_type": "code",
      "metadata": {
        "colab": {
          "base_uri": "https://localhost:8080/"
        },
        "id": "VJ5ZVYAOH7Z1",
        "outputId": "67f8d8c6-e05a-42fb-cd7d-e962e4347a98"
      },
      "source": [
        "min_value = lst[0]\n",
        "i=0\n",
        "while(i<len(lst)):\n",
        "    if lst[i] < min_value:\n",
        "        min_value = lst[i]\n",
        "    i+=1\n",
        "print(\"The minimum value: \",min_value)"
      ],
      "execution_count": 5,
      "outputs": [
        {
          "output_type": "stream",
          "name": "stdout",
          "text": [
            "The minimum value:  -2\n"
          ]
        }
      ]
    },
    {
      "cell_type": "markdown",
      "metadata": {
        "id": "1gL707h36N8q"
      },
      "source": [
        "## 4.Calculate \"Maximum\""
      ]
    },
    {
      "cell_type": "code",
      "metadata": {
        "colab": {
          "base_uri": "https://localhost:8080/"
        },
        "id": "kpmlyT3nLn2y",
        "outputId": "b493ba96-4974-4956-d765-5042f4d441f4"
      },
      "source": [
        "max_value = lst[0]\n",
        "i=0\n",
        "while(i<len(lst)):\n",
        "  if lst[i] > max_value:\n",
        "    max_value = lst[i]\n",
        "  i+=1\n",
        "\n",
        "print(\"The maximum value: \",max_value)"
      ],
      "execution_count": 6,
      "outputs": [
        {
          "output_type": "stream",
          "name": "stdout",
          "text": [
            "The maximum value:  90\n"
          ]
        }
      ]
    },
    {
      "cell_type": "markdown",
      "metadata": {
        "id": "CFP_FRgE7wCY"
      },
      "source": [
        "5. ## 3.Calculate \"Range\""
      ]
    },
    {
      "cell_type": "code",
      "metadata": {
        "colab": {
          "base_uri": "https://localhost:8080/"
        },
        "id": "ZbvkcyDIumQ_",
        "outputId": "197374e2-aef5-44f5-c1e9-6b7688041da0"
      },
      "source": [
        "range=max_value-min_value\n",
        "print (\"Range of the values from\",min_value, \"to\", max_value,\"is\", range)\n"
      ],
      "execution_count": 7,
      "outputs": [
        {
          "output_type": "stream",
          "name": "stdout",
          "text": [
            "Range of the values from -2 to 90 is 92\n"
          ]
        }
      ]
    },
    {
      "cell_type": "markdown",
      "metadata": {
        "id": "NiXIBdsOyiRp"
      },
      "source": [
        "## 6. Calculate \"Variance\"\n"
      ]
    },
    {
      "cell_type": "code",
      "metadata": {
        "colab": {
          "base_uri": "https://localhost:8080/"
        },
        "id": "GlPhc5Fzvsx2",
        "outputId": "ac5614e4-1c99-46ca-ca07-57a32c9795c9"
      },
      "source": [
        "#calculate the sum of the sqaured deviation\n",
        "sum_of_square = 0\n",
        "for i in lst:\n",
        "  sum_of_square += (i-a)**2\n",
        "print(\"Sum of square = \",sum_of_square)"
      ],
      "execution_count": 8,
      "outputs": [
        {
          "output_type": "stream",
          "name": "stdout",
          "text": [
            "Sum of square =  9054.400000000001\n"
          ]
        }
      ]
    },
    {
      "cell_type": "code",
      "metadata": {
        "colab": {
          "base_uri": "https://localhost:8080/"
        },
        "id": "6WU_WQV50GJv",
        "outputId": "bef6895f-840c-4659-8df7-a2b96f1e43df"
      },
      "source": [
        "variance= sum_of_square/len(lst)\n",
        "print(\"Variance: \",variance)"
      ],
      "execution_count": 9,
      "outputs": [
        {
          "output_type": "stream",
          "name": "stdout",
          "text": [
            "Variance:  905.4400000000002\n"
          ]
        }
      ]
    },
    {
      "cell_type": "markdown",
      "metadata": {
        "id": "b7jQ7L2pES1C"
      },
      "source": [
        "## 7.Calculate \"Standard Deviation\""
      ]
    },
    {
      "cell_type": "code",
      "metadata": {
        "colab": {
          "base_uri": "https://localhost:8080/"
        },
        "id": "zFNo7u201YO-",
        "outputId": "6e71fa1b-2547-40f8-dc49-c2f38388d907"
      },
      "source": [
        "Standard_deviation= variance**0.5\n",
        "print(\"Standard deviation: \",Standard_deviation)"
      ],
      "execution_count": 10,
      "outputs": [
        {
          "output_type": "stream",
          "name": "stdout",
          "text": [
            "Standard deviation:  30.09053007176843\n"
          ]
        }
      ]
    }
  ]
}