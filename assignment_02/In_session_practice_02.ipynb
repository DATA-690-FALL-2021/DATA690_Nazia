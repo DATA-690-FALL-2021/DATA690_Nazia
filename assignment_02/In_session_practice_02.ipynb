{
  "nbformat": 4,
  "nbformat_minor": 0,
  "metadata": {
    "colab": {
      "name": "In_session_practice_02.ipynb",
      "provenance": [],
      "authorship_tag": "ABX9TyNsa+l0UXQcjXyhkefxoPkA",
      "include_colab_link": true
    },
    "kernelspec": {
      "name": "python3",
      "display_name": "Python 3"
    },
    "language_info": {
      "name": "python"
    }
  },
  "cells": [
    {
      "cell_type": "markdown",
      "metadata": {
        "id": "view-in-github",
        "colab_type": "text"
      },
      "source": [
        "<a href=\"https://colab.research.google.com/github/nazia-noor/DATA690_Nazia/blob/main/assignment_02/In_session_practice_02.ipynb\" target=\"_parent\"><img src=\"https://colab.research.google.com/assets/colab-badge.svg\" alt=\"Open In Colab\"/></a>"
      ]
    },
    {
      "cell_type": "markdown",
      "metadata": {
        "id": "zuHhiZgo-sUs"
      },
      "source": [
        "# In-session hands on practices\n",
        "Nazia Noor"
      ]
    },
    {
      "cell_type": "markdown",
      "metadata": {
        "id": "hDwcQOmq_OsH"
      },
      "source": [
        "## 1. Simple Types"
      ]
    },
    {
      "cell_type": "code",
      "metadata": {
        "colab": {
          "base_uri": "https://localhost:8080/"
        },
        "id": "h_ddRMfy-2sw",
        "outputId": "ea003c5a-0708-42ea-fcef-414c39bd4409"
      },
      "source": [
        "x = 5      # integer\n",
        "y = 0.5      # float\n",
        "s = \"hello\" # string, a collection of characters\n",
        "print (x,y,s)"
      ],
      "execution_count": 1,
      "outputs": [
        {
          "output_type": "stream",
          "name": "stdout",
          "text": [
            "5 0.5 hello\n"
          ]
        }
      ]
    },
    {
      "cell_type": "code",
      "metadata": {
        "colab": {
          "base_uri": "https://localhost:8080/"
        },
        "id": "j9x9sClu_5dS",
        "outputId": "4aac9fd3-ec39-4048-853f-9c71907df50a"
      },
      "source": [
        "type(x)"
      ],
      "execution_count": 5,
      "outputs": [
        {
          "output_type": "execute_result",
          "data": {
            "text/plain": [
              "int"
            ]
          },
          "metadata": {},
          "execution_count": 5
        }
      ]
    },
    {
      "cell_type": "code",
      "metadata": {
        "colab": {
          "base_uri": "https://localhost:8080/"
        },
        "id": "Zy6QH5pUABvd",
        "outputId": "c6b81510-da31-49be-c61a-4447a05e9a5f"
      },
      "source": [
        "type(s)"
      ],
      "execution_count": 6,
      "outputs": [
        {
          "output_type": "execute_result",
          "data": {
            "text/plain": [
              "str"
            ]
          },
          "metadata": {},
          "execution_count": 6
        }
      ]
    },
    {
      "cell_type": "markdown",
      "metadata": {
        "id": "qvinpLkR_cP_"
      },
      "source": [
        "## 2. Collection Types"
      ]
    },
    {
      "cell_type": "code",
      "metadata": {
        "colab": {
          "base_uri": "https://localhost:8080/"
        },
        "id": "Ta0oxn9y_Kxm",
        "outputId": "92d153f9-8cbb-4747-db8d-0e2b97e773dd"
      },
      "source": [
        "a_list = [1,4,7,20]\n",
        "print(a_list)"
      ],
      "execution_count": 3,
      "outputs": [
        {
          "output_type": "stream",
          "name": "stdout",
          "text": [
            "[1, 4, 7, 20]\n"
          ]
        }
      ]
    },
    {
      "cell_type": "code",
      "metadata": {
        "colab": {
          "base_uri": "https://localhost:8080/"
        },
        "id": "OPvLey3s_q8G",
        "outputId": "cb997898-1ade-4c4e-e587-812480ae7c7c"
      },
      "source": [
        "type(a_list)"
      ],
      "execution_count": 4,
      "outputs": [
        {
          "output_type": "execute_result",
          "data": {
            "text/plain": [
              "list"
            ]
          },
          "metadata": {},
          "execution_count": 4
        }
      ]
    },
    {
      "cell_type": "markdown",
      "metadata": {
        "id": "ZcPt3rpzAMuP"
      },
      "source": [
        "## 3. Loop"
      ]
    },
    {
      "cell_type": "code",
      "metadata": {
        "colab": {
          "base_uri": "https://localhost:8080/"
        },
        "id": "okp8HM_S_0mo",
        "outputId": "087cc879-d75a-4a8e-8fe5-0c18d0f86bd4"
      },
      "source": [
        "for i in a_list:\n",
        "    print(\"Integer\",i)"
      ],
      "execution_count": 9,
      "outputs": [
        {
          "output_type": "stream",
          "name": "stdout",
          "text": [
            "Integer 1\n",
            "Integer 4\n",
            "Integer 7\n",
            "Integer 20\n"
          ]
        }
      ]
    },
    {
      "cell_type": "markdown",
      "metadata": {
        "id": "tAF-mwVKBj_L"
      },
      "source": [
        "## 4. Conditions"
      ]
    },
    {
      "cell_type": "code",
      "metadata": {
        "colab": {
          "base_uri": "https://localhost:8080/"
        },
        "id": "64vUYhxiB5Qg",
        "outputId": "31b494a6-8f17-4b9c-9685-a1791fb96140"
      },
      "source": [
        "print ( 10 % 2) #modula"
      ],
      "execution_count": 12,
      "outputs": [
        {
          "output_type": "stream",
          "name": "stdout",
          "text": [
            "0\n"
          ]
        }
      ]
    },
    {
      "cell_type": "code",
      "metadata": {
        "colab": {
          "base_uri": "https://localhost:8080/"
        },
        "id": "ZXc0g_2iCBxs",
        "outputId": "b62b4a71-8685-49f5-d22a-7775ace0890e"
      },
      "source": [
        "print (23 % 2)  #modula"
      ],
      "execution_count": 13,
      "outputs": [
        {
          "output_type": "stream",
          "name": "stdout",
          "text": [
            "1\n"
          ]
        }
      ]
    },
    {
      "cell_type": "code",
      "metadata": {
        "id": "lPnJ8OuHCuza"
      },
      "source": [
        ""
      ],
      "execution_count": null,
      "outputs": []
    }
  ]
}