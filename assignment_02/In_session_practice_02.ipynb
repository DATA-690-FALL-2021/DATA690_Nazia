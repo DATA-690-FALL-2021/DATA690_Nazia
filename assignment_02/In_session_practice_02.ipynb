{
  "nbformat": 4,
  "nbformat_minor": 0,
  "metadata": {
    "colab": {
      "name": "In_session_practice_02.ipynb",
      "provenance": [],
      "collapsed_sections": [],
      "authorship_tag": "ABX9TyNxx7zc7L7bo/BqxDlZ8e+y",
      "include_colab_link": true
    },
    "kernelspec": {
      "name": "python3",
      "display_name": "Python 3"
    },
    "language_info": {
      "name": "python"
    }
  },
  "cells": [
    {
      "cell_type": "markdown",
      "metadata": {
        "id": "view-in-github",
        "colab_type": "text"
      },
      "source": [
        "<a href=\"https://colab.research.google.com/github/nazia-noor/DATA690_Nazia/blob/main/assignment_02/In_session_practice_02.ipynb\" target=\"_parent\"><img src=\"https://colab.research.google.com/assets/colab-badge.svg\" alt=\"Open In Colab\"/></a>"
      ]
    },
    {
      "cell_type": "markdown",
      "metadata": {
        "id": "zuHhiZgo-sUs"
      },
      "source": [
        "# In-session hands-on practices\n",
        "Nazia Noor"
      ]
    },
    {
      "cell_type": "markdown",
      "metadata": {
        "id": "hDwcQOmq_OsH"
      },
      "source": [
        "## 1. Simple Types\n",
        "- int()\n",
        "- float()\n",
        "- str()\n",
        "- boolean (True/False,first letter upper case)\n",
        "- NaN (Not a number)"
      ]
    },
    {
      "cell_type": "code",
      "metadata": {
        "colab": {
          "base_uri": "https://localhost:8080/"
        },
        "id": "h_ddRMfy-2sw",
        "outputId": "ea003c5a-0708-42ea-fcef-414c39bd4409"
      },
      "source": [
        "x = 5      # integer\n",
        "y = 0.5      # float\n",
        "s = \"hello\" # string, a collection of characters\n",
        "print (x,y,s)"
      ],
      "execution_count": null,
      "outputs": [
        {
          "output_type": "stream",
          "name": "stdout",
          "text": [
            "5 0.5 hello\n"
          ]
        }
      ]
    },
    {
      "cell_type": "code",
      "metadata": {
        "colab": {
          "base_uri": "https://localhost:8080/"
        },
        "id": "j9x9sClu_5dS",
        "outputId": "4aac9fd3-ec39-4048-853f-9c71907df50a"
      },
      "source": [
        "type(x)"
      ],
      "execution_count": null,
      "outputs": [
        {
          "output_type": "execute_result",
          "data": {
            "text/plain": [
              "int"
            ]
          },
          "metadata": {},
          "execution_count": 5
        }
      ]
    },
    {
      "cell_type": "code",
      "metadata": {
        "colab": {
          "base_uri": "https://localhost:8080/"
        },
        "id": "Zy6QH5pUABvd",
        "outputId": "c6b81510-da31-49be-c61a-4447a05e9a5f"
      },
      "source": [
        "type(s)"
      ],
      "execution_count": null,
      "outputs": [
        {
          "output_type": "execute_result",
          "data": {
            "text/plain": [
              "str"
            ]
          },
          "metadata": {},
          "execution_count": 6
        }
      ]
    },
    {
      "cell_type": "markdown",
      "metadata": {
        "id": "qvinpLkR_cP_"
      },
      "source": [
        "## 2. Collection Types"
      ]
    },
    {
      "cell_type": "code",
      "metadata": {
        "colab": {
          "base_uri": "https://localhost:8080/"
        },
        "id": "Ta0oxn9y_Kxm",
        "outputId": "92d153f9-8cbb-4747-db8d-0e2b97e773dd"
      },
      "source": [
        "a_list = [1,4,7,20]\n",
        "print(a_list)"
      ],
      "execution_count": null,
      "outputs": [
        {
          "output_type": "stream",
          "name": "stdout",
          "text": [
            "[1, 4, 7, 20]\n"
          ]
        }
      ]
    },
    {
      "cell_type": "code",
      "metadata": {
        "colab": {
          "base_uri": "https://localhost:8080/"
        },
        "id": "OPvLey3s_q8G",
        "outputId": "cb997898-1ade-4c4e-e587-812480ae7c7c"
      },
      "source": [
        "type(a_list)"
      ],
      "execution_count": null,
      "outputs": [
        {
          "output_type": "execute_result",
          "data": {
            "text/plain": [
              "list"
            ]
          },
          "metadata": {},
          "execution_count": 4
        }
      ]
    },
    {
      "cell_type": "markdown",
      "metadata": {
        "id": "ZcPt3rpzAMuP"
      },
      "source": [
        "## 3. Loop"
      ]
    },
    {
      "cell_type": "code",
      "metadata": {
        "colab": {
          "base_uri": "https://localhost:8080/"
        },
        "id": "okp8HM_S_0mo",
        "outputId": "087cc879-d75a-4a8e-8fe5-0c18d0f86bd4"
      },
      "source": [
        "for i in a_list:\n",
        "    print(\"Integer\",i)"
      ],
      "execution_count": null,
      "outputs": [
        {
          "output_type": "stream",
          "name": "stdout",
          "text": [
            "Integer 1\n",
            "Integer 4\n",
            "Integer 7\n",
            "Integer 20\n"
          ]
        }
      ]
    },
    {
      "cell_type": "markdown",
      "metadata": {
        "id": "tAF-mwVKBj_L"
      },
      "source": [
        "## 4. Conditions"
      ]
    },
    {
      "cell_type": "code",
      "metadata": {
        "colab": {
          "base_uri": "https://localhost:8080/"
        },
        "id": "64vUYhxiB5Qg",
        "outputId": "31b494a6-8f17-4b9c-9685-a1791fb96140"
      },
      "source": [
        "print ( 10 % 2) #modula"
      ],
      "execution_count": null,
      "outputs": [
        {
          "output_type": "stream",
          "name": "stdout",
          "text": [
            "0\n"
          ]
        }
      ]
    },
    {
      "cell_type": "code",
      "metadata": {
        "colab": {
          "base_uri": "https://localhost:8080/"
        },
        "id": "ZXc0g_2iCBxs",
        "outputId": "b62b4a71-8685-49f5-d22a-7775ace0890e"
      },
      "source": [
        "print (23 % 2)  #modula"
      ],
      "execution_count": null,
      "outputs": [
        {
          "output_type": "stream",
          "name": "stdout",
          "text": [
            "1\n"
          ]
        }
      ]
    },
    {
      "cell_type": "code",
      "metadata": {
        "colab": {
          "base_uri": "https://localhost:8080/"
        },
        "id": "lPnJ8OuHCuza",
        "outputId": "6791340b-5ab6-411a-a578-b6da39dac50d"
      },
      "source": [
        "for i in a_list:\n",
        "  if i % 2 == 1:\n",
        "    print(\"odd number\",i)"
      ],
      "execution_count": null,
      "outputs": [
        {
          "output_type": "stream",
          "name": "stdout",
          "text": [
            "odd number 1\n",
            "odd number 7\n"
          ]
        }
      ]
    },
    {
      "cell_type": "markdown",
      "metadata": {
        "id": "b_TV0OHtMuL7"
      },
      "source": [
        "## 4.Python built_in function\n",
        "- Range()\n",
        "- List()\n",
        "- Int()\n",
        "- Str()"
      ]
    },
    {
      "cell_type": "code",
      "metadata": {
        "colab": {
          "base_uri": "https://localhost:8080/"
        },
        "id": "NN2RMfi7Mthr",
        "outputId": "4c4643d5-dbdd-4aec-d5c2-70519394e7f9"
      },
      "source": [
        "for i in range(10,21,2):  # start=10 stop=21 (up to  20,not including 21), step =2\n",
        "    print(i)"
      ],
      "execution_count": 17,
      "outputs": [
        {
          "output_type": "stream",
          "name": "stdout",
          "text": [
            "10\n",
            "12\n",
            "14\n",
            "16\n",
            "18\n",
            "20\n"
          ]
        }
      ]
    },
    {
      "cell_type": "code",
      "metadata": {
        "id": "reny11X-H-M0",
        "colab": {
          "base_uri": "https://localhost:8080/"
        },
        "outputId": "6d3f2e60-9174-45dd-92bd-f3956641f9f1"
      },
      "source": [
        "for j in range(0,5):\n",
        "  print (j)"
      ],
      "execution_count": 18,
      "outputs": [
        {
          "output_type": "stream",
          "name": "stdout",
          "text": [
            "0\n",
            "1\n",
            "2\n",
            "3\n",
            "4\n"
          ]
        }
      ]
    },
    {
      "cell_type": "code",
      "metadata": {
        "colab": {
          "base_uri": "https://localhost:8080/"
        },
        "id": "joQmEWxXM3Ge",
        "outputId": "633f1d5e-bf02-45eb-f0dc-a03935743c3a"
      },
      "source": [
        "print(list(range(0,5)))"
      ],
      "execution_count": 19,
      "outputs": [
        {
          "output_type": "stream",
          "name": "stdout",
          "text": [
            "[0, 1, 2, 3, 4]\n"
          ]
        }
      ]
    },
    {
      "cell_type": "code",
      "metadata": {
        "colab": {
          "base_uri": "https://localhost:8080/"
        },
        "id": "AT4SpwFoM9mO",
        "outputId": "bb6f5547-65a8-4bb8-c019-c8763c29c2ea"
      },
      "source": [
        "x=\"50\"\n",
        "type(x)"
      ],
      "execution_count": 20,
      "outputs": [
        {
          "output_type": "execute_result",
          "data": {
            "text/plain": [
              "str"
            ]
          },
          "metadata": {},
          "execution_count": 20
        }
      ]
    },
    {
      "cell_type": "code",
      "metadata": {
        "colab": {
          "base_uri": "https://localhost:8080/"
        },
        "id": "fENEvsDdNCpB",
        "outputId": "4028371c-cab4-437b-93eb-6a0fc7c28011"
      },
      "source": [
        "y=int(x)\n",
        "type(y)"
      ],
      "execution_count": 21,
      "outputs": [
        {
          "output_type": "execute_result",
          "data": {
            "text/plain": [
              "int"
            ]
          },
          "metadata": {},
          "execution_count": 21
        }
      ]
    },
    {
      "cell_type": "code",
      "metadata": {
        "colab": {
          "base_uri": "https://localhost:8080/"
        },
        "id": "qNGVGfyVNKBH",
        "outputId": "73db73f4-0bf9-4ded-db8c-9ee223271a37"
      },
      "source": [
        "print(x,y)"
      ],
      "execution_count": 22,
      "outputs": [
        {
          "output_type": "stream",
          "name": "stdout",
          "text": [
            "50 50\n"
          ]
        }
      ]
    },
    {
      "cell_type": "markdown",
      "metadata": {
        "id": "J9kihEhTNs_P"
      },
      "source": [
        "## 6. Accepting user input "
      ]
    },
    {
      "cell_type": "code",
      "metadata": {
        "colab": {
          "base_uri": "https://localhost:8080/"
        },
        "id": "p43SFoOWNiZU",
        "outputId": "d2a9f716-8698-46f1-96a2-c0acffef5b6b"
      },
      "source": [
        "x= input (\"Enter an integer: \")"
      ],
      "execution_count": 25,
      "outputs": [
        {
          "name": "stdout",
          "output_type": "stream",
          "text": [
            "Enter an integer: 10\n"
          ]
        }
      ]
    },
    {
      "cell_type": "code",
      "metadata": {
        "colab": {
          "base_uri": "https://localhost:8080/"
        },
        "id": "Jw4hdZFrNq2r",
        "outputId": "adfeda04-8f94-453c-ed96-673cb62ac35e"
      },
      "source": [
        "print(x)"
      ],
      "execution_count": 26,
      "outputs": [
        {
          "output_type": "stream",
          "name": "stdout",
          "text": [
            "10\n"
          ]
        }
      ]
    },
    {
      "cell_type": "code",
      "metadata": {
        "colab": {
          "base_uri": "https://localhost:8080/"
        },
        "id": "cOCzvKzHN7mv",
        "outputId": "7591b45c-9911-48b1-ae3a-2d1c150fa570"
      },
      "source": [
        "type(x) # user input is always a str"
      ],
      "execution_count": 28,
      "outputs": [
        {
          "output_type": "execute_result",
          "data": {
            "text/plain": [
              "str"
            ]
          },
          "metadata": {},
          "execution_count": 28
        }
      ]
    },
    {
      "cell_type": "code",
      "metadata": {
        "colab": {
          "base_uri": "https://localhost:8080/"
        },
        "id": "uik8QOexN9bp",
        "outputId": "fc1455da-0e3f-40f9-98bc-88fdda9a2533"
      },
      "source": [
        "x= input (\"Enter an integer: \")"
      ],
      "execution_count": 29,
      "outputs": [
        {
          "name": "stdout",
          "output_type": "stream",
          "text": [
            "Enter an integer: noor\n"
          ]
        }
      ]
    },
    {
      "cell_type": "markdown",
      "metadata": {
        "id": "N468pYyGOYWR"
      },
      "source": [
        "## 7. Exception handling"
      ]
    },
    {
      "cell_type": "code",
      "metadata": {
        "colab": {
          "base_uri": "https://localhost:8080/",
          "height": 185
        },
        "id": "L7CXsbECOL37",
        "outputId": "546a4b54-ebdb-4db2-eb90-16c42f848856"
      },
      "source": [
        "y= int(x)\n",
        "print(x)"
      ],
      "execution_count": 30,
      "outputs": [
        {
          "output_type": "error",
          "ename": "ValueError",
          "evalue": "ignored",
          "traceback": [
            "\u001b[0;31m---------------------------------------------------------------------------\u001b[0m",
            "\u001b[0;31mValueError\u001b[0m                                Traceback (most recent call last)",
            "\u001b[0;32m<ipython-input-30-3bf0caab5a9e>\u001b[0m in \u001b[0;36m<module>\u001b[0;34m()\u001b[0m\n\u001b[0;32m----> 1\u001b[0;31m \u001b[0my\u001b[0m\u001b[0;34m=\u001b[0m \u001b[0mint\u001b[0m\u001b[0;34m(\u001b[0m\u001b[0mx\u001b[0m\u001b[0;34m)\u001b[0m\u001b[0;34m\u001b[0m\u001b[0;34m\u001b[0m\u001b[0m\n\u001b[0m\u001b[1;32m      2\u001b[0m \u001b[0mprint\u001b[0m\u001b[0;34m(\u001b[0m\u001b[0mx\u001b[0m\u001b[0;34m)\u001b[0m\u001b[0;34m\u001b[0m\u001b[0;34m\u001b[0m\u001b[0m\n",
            "\u001b[0;31mValueError\u001b[0m: invalid literal for int() with base 10: 'noor'"
          ]
        }
      ]
    },
    {
      "cell_type": "code",
      "metadata": {
        "colab": {
          "base_uri": "https://localhost:8080/"
        },
        "id": "qo7E9LlIOoVU",
        "outputId": "ecebd772-4a01-45b6-f2f1-1a388f1796e3"
      },
      "source": [
        "y=int(\"50\")\n",
        "print(y)"
      ],
      "execution_count": 31,
      "outputs": [
        {
          "output_type": "stream",
          "name": "stdout",
          "text": [
            "50\n"
          ]
        }
      ]
    },
    {
      "cell_type": "code",
      "metadata": {
        "colab": {
          "base_uri": "https://localhost:8080/"
        },
        "id": "9icJEkpEOw5c",
        "outputId": "b5dd146e-a96d-412e-ca6c-4b20b43892bf"
      },
      "source": [
        "x=input(\"please enter an integer:\")\n",
        "try:\n",
        "  y= int(x)\n",
        "  print(\"got integer:\",y)\n",
        "except:\n",
        "  print (\"Unable to convert the user input to an interger\")\n"
      ],
      "execution_count": 33,
      "outputs": [
        {
          "output_type": "stream",
          "name": "stdout",
          "text": [
            "please enter an integer:noor\n",
            "Unable to convert the user input to an interger\n"
          ]
        }
      ]
    },
    {
      "cell_type": "markdown",
      "metadata": {
        "id": "5_qX9JBSPvMZ"
      },
      "source": [
        "## 7. Infinite loop"
      ]
    },
    {
      "cell_type": "code",
      "metadata": {
        "colab": {
          "base_uri": "https://localhost:8080/"
        },
        "id": "ShVLC-oXPYeQ",
        "outputId": "338a1574-417e-4d45-a35d-41b00123fb43"
      },
      "source": [
        "while True:\n",
        "  x= input(\"please enter an integer: \")\n",
        "  try:\n",
        "    y= int(x)\n",
        "    print(\"got integer:\",y)\n",
        "    break\n",
        "  except:\n",
        "    print (\"you must enter an integer.Please try again\")"
      ],
      "execution_count": 37,
      "outputs": [
        {
          "output_type": "stream",
          "name": "stdout",
          "text": [
            "please enter an integer: noor\n",
            "you must enter an integer.Please try again\n",
            "please enter an integer: 23no\n",
            "you must enter an integer.Please try again\n",
            "please enter an integer: -12\n",
            "got integer: -12\n"
          ]
        }
      ]
    },
    {
      "cell_type": "code",
      "metadata": {
        "colab": {
          "base_uri": "https://localhost:8080/"
        },
        "id": "Mr860fqyQISx",
        "outputId": "bdd8209e-a9c7-4329-addb-c522afb02bc7"
      },
      "source": [
        "The_list=[]\n",
        "for i in range(0,3):\n",
        "  while True:\n",
        "    x= input(\"please enter an integer: \")\n",
        "    try:\n",
        "      y= int(x)\n",
        "      The_list.append(y)\n",
        "      print(\"got integer:\",x)\n",
        "      break\n",
        "    except:\n",
        "      print (\"you must enter an integer.Please try again\")\n",
        "  "
      ],
      "execution_count": 43,
      "outputs": [
        {
          "output_type": "stream",
          "name": "stdout",
          "text": [
            "please enter an integer: 2\n",
            "got integer: 2\n",
            "please enter an integer: 3\n",
            "got integer: 3\n",
            "please enter an integer: 45\n",
            "got integer: 45\n"
          ]
        }
      ]
    },
    {
      "cell_type": "code",
      "metadata": {
        "id": "UMYOfD9tXCHw"
      },
      "source": [
        ""
      ],
      "execution_count": null,
      "outputs": []
    }
  ]
}