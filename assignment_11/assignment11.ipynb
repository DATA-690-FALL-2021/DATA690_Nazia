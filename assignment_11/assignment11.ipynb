{
  "nbformat": 4,
  "nbformat_minor": 0,
  "metadata": {
    "colab": {
      "name": "assignment11.ipynb",
      "provenance": [],
      "authorship_tag": "ABX9TyOlEzdpqCThlnBFvVNSMm4l",
      "include_colab_link": true
    },
    "kernelspec": {
      "name": "python3",
      "display_name": "Python 3"
    },
    "language_info": {
      "name": "python"
    }
  },
  "cells": [
    {
      "cell_type": "markdown",
      "metadata": {
        "id": "view-in-github",
        "colab_type": "text"
      },
      "source": [
        "<a href=\"https://colab.research.google.com/github/nazia-noor/DATA690_Nazia/blob/main/assignment_11/assignment11.ipynb\" target=\"_parent\"><img src=\"https://colab.research.google.com/assets/colab-badge.svg\" alt=\"Open In Colab\"/></a>"
      ]
    },
    {
      "cell_type": "markdown",
      "metadata": {
        "id": "4fUhuS_Omljs"
      },
      "source": [
        "## **Assignment 11**\n",
        "\n",
        "### Student name:Nazia Noor\n",
        "### Instructor: Dr. Jay Wang\n",
        "### Workshop Instructor: Mr. Liu"
      ]
    },
    {
      "cell_type": "markdown",
      "metadata": {
        "id": "LXU0nFRGkAH4"
      },
      "source": [
        "# Learning from the workshop"
      ]
    },
    {
      "cell_type": "markdown",
      "metadata": {
        "id": "qV3uOoWGhKd5"
      },
      "source": [
        "- This is a really user-friendly website, and the best thing is that we don't have to utilize any coding for data processing, cleaning, or visualization.Mr. Liu was gave us comprehensive explanations about the process.The drag-and-drop method was simple to use, allowing you to create a consistent workflow that brings a analysis from raw data to meaningful contribution.\n",
        "We've figured out how to use functional widgets on data to specify how data and processes interact without coding\n",
        "\n",
        "\n",
        "- Without using any code, I've learnt how to convert raw data into scientific knowledge, insight, and understanding. Everything is simple to grasp, including machine learning methods, because when we take the cursor over any method or widget, the definition appears. We have done machine learning analysis here, despite the fact that we have not covered machine learning\n",
        "\n",
        "\n",
        "- Another thing I have learned from this workshop is data stratification. It refers to sorting data, people, and objects into distinct groups or layers. It is a technique used in combination with other data analysis tools.\n",
        "\n",
        "\n",
        "- The website provides a user-friendly interface that makes it simple for me to establish data editing rules for various data types, including data imputation rules for data quality assurance. The system evaluates the data's accuracy.Finding missing data is usually a difficult task. Using a variety of imputation approaches, we were able to select the most effective way for impute missing data, reducing bias and ensuring the quality of the analysis.\n",
        "\n",
        "\n",
        "- Though I've never utilized System Aided Analysis, it's useful when users aren't sure which machine learning model to apply for an analysis which I think is quite amazing. Where data scientist spend so much hour in a project, this website makes everything easy. It is a smart way for data analysis and machine learning modeling.\n",
        "\n",
        "- It generates report for us which is really helpful as it is almost errorless. \n",
        "\n"
      ]
    },
    {
      "cell_type": "code",
      "metadata": {
        "id": "eYeR1bGCkZ6m"
      },
      "source": [
        ""
      ],
      "execution_count": null,
      "outputs": []
    }
  ]
}