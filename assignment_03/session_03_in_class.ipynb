{
  "nbformat": 4,
  "nbformat_minor": 0,
  "metadata": {
    "colab": {
      "name": "session_03_in_class.ipynb",
      "provenance": [],
      "authorship_tag": "ABX9TyO3VasSidm86N8dxqp+jcDj",
      "include_colab_link": true
    },
    "kernelspec": {
      "name": "python3",
      "display_name": "Python 3"
    },
    "language_info": {
      "name": "python"
    }
  },
  "cells": [
    {
      "cell_type": "markdown",
      "metadata": {
        "id": "view-in-github",
        "colab_type": "text"
      },
      "source": [
        "<a href=\"https://colab.research.google.com/github/nazia-noor/DATA690_Nazia/blob/main/assignment_03/session_03_in_class.ipynb\" target=\"_parent\"><img src=\"https://colab.research.google.com/assets/colab-badge.svg\" alt=\"Open In Colab\"/></a>"
      ]
    },
    {
      "cell_type": "markdown",
      "metadata": {
        "id": "7Oo2A-lR8VG9"
      },
      "source": [
        "# Session 3 in class practice\n",
        "- NAZIA NOOR\n",
        "-September 16"
      ]
    },
    {
      "cell_type": "markdown",
      "metadata": {
        "id": "7PYKe4px825P"
      },
      "source": [
        "## 1.List Comprehension "
      ]
    },
    {
      "cell_type": "code",
      "metadata": {
        "colab": {
          "base_uri": "https://localhost:8080/"
        },
        "id": "reF9URgD8Ud1",
        "outputId": "17be5dc2-0b54-4f53-d058-38934086c8da"
      },
      "source": [
        "#This is traditional way using for loop\n",
        "x =[2,5,-7,10,12,]\n",
        "\n",
        "y=[]\n",
        "for i in x:\n",
        "  new_number= i+10\n",
        "  print(new_number)\n",
        "  y.append(new_number)\n",
        "\n",
        "print(y)\n"
      ],
      "execution_count": null,
      "outputs": [
        {
          "output_type": "stream",
          "name": "stdout",
          "text": [
            "12\n",
            "15\n",
            "3\n",
            "20\n",
            "22\n",
            "[12, 15, 3, 20, 22]\n"
          ]
        }
      ]
    },
    {
      "cell_type": "code",
      "metadata": {
        "colab": {
          "base_uri": "https://localhost:8080/"
        },
        "id": "zWBsGEKY9E99",
        "outputId": "e0365fdd-46a4-4607-f788-0ae2e4d8ab61"
      },
      "source": [
        "# a new way using list comprehension\n",
        "\n",
        "y=[i+10 for i in x]\n",
        "print(y)"
      ],
      "execution_count": null,
      "outputs": [
        {
          "output_type": "stream",
          "name": "stdout",
          "text": [
            "[12, 15, 3, 20, 22]\n"
          ]
        }
      ]
    },
    {
      "cell_type": "markdown",
      "metadata": {
        "id": "0rXekENB-1gd"
      },
      "source": [
        "## 2. User-defined Function"
      ]
    },
    {
      "cell_type": "markdown",
      "metadata": {
        "id": "ff3gy9mIARdY"
      },
      "source": [
        "Addition"
      ]
    },
    {
      "cell_type": "code",
      "metadata": {
        "id": "IXXFhx2Z-kJP"
      },
      "source": [
        "def addition(a,b):\n",
        "  return a+b"
      ],
      "execution_count": null,
      "outputs": []
    },
    {
      "cell_type": "code",
      "metadata": {
        "colab": {
          "base_uri": "https://localhost:8080/"
        },
        "id": "myHsYqHQ_aK1",
        "outputId": "52631d98-6f52-4ef2-ebb2-4d01abc43451"
      },
      "source": [
        "y=addition(5,10)\n",
        "print(y)"
      ],
      "execution_count": null,
      "outputs": [
        {
          "output_type": "stream",
          "name": "stdout",
          "text": [
            "15\n"
          ]
        }
      ]
    },
    {
      "cell_type": "markdown",
      "metadata": {
        "id": "nkAQvP5nAPg1"
      },
      "source": [
        "Division"
      ]
    },
    {
      "cell_type": "code",
      "metadata": {
        "id": "wrjSop3T_tqt"
      },
      "source": [
        "def division(a,b):\n",
        "  return a/b"
      ],
      "execution_count": null,
      "outputs": []
    },
    {
      "cell_type": "code",
      "metadata": {
        "colab": {
          "base_uri": "https://localhost:8080/"
        },
        "id": "6VgsUqp7_-hW",
        "outputId": "94b6bf72-ba92-440c-8b60-f60b3d3372c4"
      },
      "source": [
        "x=division(10,2)\n",
        "x"
      ],
      "execution_count": null,
      "outputs": [
        {
          "output_type": "execute_result",
          "data": {
            "text/plain": [
              "5.0"
            ]
          },
          "metadata": {},
          "execution_count": 16
        }
      ]
    },
    {
      "cell_type": "markdown",
      "metadata": {
        "id": "SUb3tBFgDMTv"
      },
      "source": [
        "## 3.Data Wangling"
      ]
    },
    {
      "cell_type": "code",
      "metadata": {
        "id": "Ylw_-_EoD9xk"
      },
      "source": [
        ""
      ],
      "execution_count": null,
      "outputs": []
    },
    {
      "cell_type": "code",
      "metadata": {
        "id": "_AyO-QQNAD9d",
        "outputId": "374205bf-6081-4090-8ad2-9fd2de128d75",
        "colab": {
          "base_uri": "https://localhost:8080/"
        }
      },
      "source": [
        "header_string=\"\"\"\n",
        "  age: continuous.\n",
        "  workclass: Private, Self-emp-not-inc, Self-emp-inc, Federal-gov, Local-gov, State-gov, Without-pay, Never-worked.\n",
        "  fnlwgt: continuous.\n",
        "  education: Bachelors, Some-college, 11th, HS-grad, Prof-school, Assoc-acdm, Assoc-voc, 9th, 7th-8th, 12th, Masters, 1st-4th, 10th, Doctorate, 5th-6th, Preschool.\n",
        "  education-num: continuous.\n",
        "  marital-status: Married-civ-spouse, Divorced, Never-married, Separated, Widowed, Married-spouse-absent, Married-AF-spouse.\n",
        "  occupation: Tech-support, Craft-repair, Other-service, Sales, Exec-managerial, Prof-specialty, Handlers-cleaners, Machine-op-inspct, Adm-clerical, Farming-fishing, Transport-moving, Priv-house-serv, Protective-serv, Armed-Forces.\n",
        "  relationship: Wife, Own-child, Husband, Not-in-family, Other-relative, Unmarried.\n",
        "  race: White, Asian-Pac-Islander, Amer-Indian-Eskimo, Other, Black.\n",
        "  sex: Female, Male.\n",
        "  capital-gain: continuous.\n",
        "  capital-loss: continuous.\n",
        "  hours-per-week: continuous.\n",
        "  native-country: United-States, Cambodia, England, Puerto-Rico, Canada, Germany, Outlying-US(Guam-USVI-etc), India, Japan, Greece, South, China, Cuba, Iran, Honduras, Philippines, Italy, Poland, Jamaica, Vietnam, Mexico, Portugal, Ireland, France, Dominican-Republic, Laos, Ecuador, Taiwan, Haiti, Columbia, Hungary, Guatemala, Nicaragua, Scotland, Thailand, Yugoslavia, El-Salvador, Trinadad&Tobago, Peru, Hong, Holand-Netherlands.\n",
        "\"\"\"\n",
        "type(header_string)\n",
        "\n"
      ],
      "execution_count": 4,
      "outputs": [
        {
          "output_type": "execute_result",
          "data": {
            "text/plain": [
              "str"
            ]
          },
          "metadata": {},
          "execution_count": 4
        }
      ]
    },
    {
      "cell_type": "code",
      "metadata": {
        "id": "vn58tpk8CmkE",
        "outputId": "3fa234f7-af1b-4566-8d61-26f379200e96",
        "colab": {
          "base_uri": "https://localhost:8080/"
        }
      },
      "source": [
        "len(header_string)"
      ],
      "execution_count": 5,
      "outputs": [
        {
          "output_type": "execute_result",
          "data": {
            "text/plain": [
              "1402"
            ]
          },
          "metadata": {},
          "execution_count": 5
        }
      ]
    },
    {
      "cell_type": "code",
      "metadata": {
        "id": "Kb7U6qW4E-Lg",
        "outputId": "fea80330-220d-4476-b5f7-81dba2b1b78d",
        "colab": {
          "base_uri": "https://localhost:8080/"
        }
      },
      "source": [
        "print(header_string)"
      ],
      "execution_count": 6,
      "outputs": [
        {
          "output_type": "stream",
          "name": "stdout",
          "text": [
            "\n",
            "  age: continuous.\n",
            "  workclass: Private, Self-emp-not-inc, Self-emp-inc, Federal-gov, Local-gov, State-gov, Without-pay, Never-worked.\n",
            "  fnlwgt: continuous.\n",
            "  education: Bachelors, Some-college, 11th, HS-grad, Prof-school, Assoc-acdm, Assoc-voc, 9th, 7th-8th, 12th, Masters, 1st-4th, 10th, Doctorate, 5th-6th, Preschool.\n",
            "  education-num: continuous.\n",
            "  marital-status: Married-civ-spouse, Divorced, Never-married, Separated, Widowed, Married-spouse-absent, Married-AF-spouse.\n",
            "  occupation: Tech-support, Craft-repair, Other-service, Sales, Exec-managerial, Prof-specialty, Handlers-cleaners, Machine-op-inspct, Adm-clerical, Farming-fishing, Transport-moving, Priv-house-serv, Protective-serv, Armed-Forces.\n",
            "  relationship: Wife, Own-child, Husband, Not-in-family, Other-relative, Unmarried.\n",
            "  race: White, Asian-Pac-Islander, Amer-Indian-Eskimo, Other, Black.\n",
            "  sex: Female, Male.\n",
            "  capital-gain: continuous.\n",
            "  capital-loss: continuous.\n",
            "  hours-per-week: continuous.\n",
            "  native-country: United-States, Cambodia, England, Puerto-Rico, Canada, Germany, Outlying-US(Guam-USVI-etc), India, Japan, Greece, South, China, Cuba, Iran, Honduras, Philippines, Italy, Poland, Jamaica, Vietnam, Mexico, Portugal, Ireland, France, Dominican-Republic, Laos, Ecuador, Taiwan, Haiti, Columbia, Hungary, Guatemala, Nicaragua, Scotland, Thailand, Yugoslavia, El-Salvador, Trinadad&Tobago, Peru, Hong, Holand-Netherlands.\n",
            "\n"
          ]
        }
      ]
    },
    {
      "cell_type": "code",
      "metadata": {
        "id": "a9pyodxbE_9A",
        "outputId": "82843d7e-edfe-497b-dd48-10fc44092984",
        "colab": {
          "base_uri": "https://localhost:8080/"
        }
      },
      "source": [
        "header_list=header_string.split(\"\\n\")\n",
        "print(header_list)"
      ],
      "execution_count": 9,
      "outputs": [
        {
          "output_type": "stream",
          "name": "stdout",
          "text": [
            "['', '  age: continuous.', '  workclass: Private, Self-emp-not-inc, Self-emp-inc, Federal-gov, Local-gov, State-gov, Without-pay, Never-worked.', '  fnlwgt: continuous.', '  education: Bachelors, Some-college, 11th, HS-grad, Prof-school, Assoc-acdm, Assoc-voc, 9th, 7th-8th, 12th, Masters, 1st-4th, 10th, Doctorate, 5th-6th, Preschool.', '  education-num: continuous.', '  marital-status: Married-civ-spouse, Divorced, Never-married, Separated, Widowed, Married-spouse-absent, Married-AF-spouse.', '  occupation: Tech-support, Craft-repair, Other-service, Sales, Exec-managerial, Prof-specialty, Handlers-cleaners, Machine-op-inspct, Adm-clerical, Farming-fishing, Transport-moving, Priv-house-serv, Protective-serv, Armed-Forces.', '  relationship: Wife, Own-child, Husband, Not-in-family, Other-relative, Unmarried.', '  race: White, Asian-Pac-Islander, Amer-Indian-Eskimo, Other, Black.', '  sex: Female, Male.', '  capital-gain: continuous.', '  capital-loss: continuous.', '  hours-per-week: continuous.', '  native-country: United-States, Cambodia, England, Puerto-Rico, Canada, Germany, Outlying-US(Guam-USVI-etc), India, Japan, Greece, South, China, Cuba, Iran, Honduras, Philippines, Italy, Poland, Jamaica, Vietnam, Mexico, Portugal, Ireland, France, Dominican-Republic, Laos, Ecuador, Taiwan, Haiti, Columbia, Hungary, Guatemala, Nicaragua, Scotland, Thailand, Yugoslavia, El-Salvador, Trinadad&Tobago, Peru, Hong, Holand-Netherlands.', '']\n"
          ]
        }
      ]
    },
    {
      "cell_type": "code",
      "metadata": {
        "id": "1mDYcD59FL7A",
        "outputId": "4b066700-3296-4585-a4d1-199d1c047f74",
        "colab": {
          "base_uri": "https://localhost:8080/"
        }
      },
      "source": [
        "len(header_list)"
      ],
      "execution_count": 10,
      "outputs": [
        {
          "output_type": "execute_result",
          "data": {
            "text/plain": [
              "16"
            ]
          },
          "metadata": {},
          "execution_count": 10
        }
      ]
    },
    {
      "cell_type": "code",
      "metadata": {
        "id": "e0NX_kcmFqgz",
        "outputId": "ff92a838-b1c3-48d1-f3e6-4aeadc9056d2",
        "colab": {
          "base_uri": "https://localhost:8080/",
          "height": 35
        }
      },
      "source": [
        "header_list[0]"
      ],
      "execution_count": 11,
      "outputs": [
        {
          "output_type": "execute_result",
          "data": {
            "application/vnd.google.colaboratory.intrinsic+json": {
              "type": "string"
            },
            "text/plain": [
              "''"
            ]
          },
          "metadata": {},
          "execution_count": 11
        }
      ]
    },
    {
      "cell_type": "code",
      "metadata": {
        "id": "biNJQPX7Fd8X",
        "outputId": "d85994dc-3da3-48e5-83a6-bf6ee8f28be8",
        "colab": {
          "base_uri": "https://localhost:8080/",
          "height": 35
        }
      },
      "source": [
        "header_list[2]"
      ],
      "execution_count": 12,
      "outputs": [
        {
          "output_type": "execute_result",
          "data": {
            "application/vnd.google.colaboratory.intrinsic+json": {
              "type": "string"
            },
            "text/plain": [
              "'  workclass: Private, Self-emp-not-inc, Self-emp-inc, Federal-gov, Local-gov, State-gov, Without-pay, Never-worked.'"
            ]
          },
          "metadata": {},
          "execution_count": 12
        }
      ]
    },
    {
      "cell_type": "code",
      "metadata": {
        "id": "dFRzkYcYFyPL",
        "outputId": "186838c8-ea0e-4d94-fc65-071b5ab84fd8",
        "colab": {
          "base_uri": "https://localhost:8080/",
          "height": 35
        }
      },
      "source": [
        "header_list[15]"
      ],
      "execution_count": 16,
      "outputs": [
        {
          "output_type": "execute_result",
          "data": {
            "application/vnd.google.colaboratory.intrinsic+json": {
              "type": "string"
            },
            "text/plain": [
              "''"
            ]
          },
          "metadata": {},
          "execution_count": 16
        }
      ]
    },
    {
      "cell_type": "code",
      "metadata": {
        "id": "eeYx8CdoF3Ss",
        "outputId": "a3756605-d5e9-45b3-9316-ee1e3b7f2532",
        "colab": {
          "base_uri": "https://localhost:8080/"
        }
      },
      "source": [
        "header_list2=header_list[1:15]\n",
        "header_list2"
      ],
      "execution_count": 17,
      "outputs": [
        {
          "output_type": "execute_result",
          "data": {
            "text/plain": [
              "['  age: continuous.',\n",
              " '  workclass: Private, Self-emp-not-inc, Self-emp-inc, Federal-gov, Local-gov, State-gov, Without-pay, Never-worked.',\n",
              " '  fnlwgt: continuous.',\n",
              " '  education: Bachelors, Some-college, 11th, HS-grad, Prof-school, Assoc-acdm, Assoc-voc, 9th, 7th-8th, 12th, Masters, 1st-4th, 10th, Doctorate, 5th-6th, Preschool.',\n",
              " '  education-num: continuous.',\n",
              " '  marital-status: Married-civ-spouse, Divorced, Never-married, Separated, Widowed, Married-spouse-absent, Married-AF-spouse.',\n",
              " '  occupation: Tech-support, Craft-repair, Other-service, Sales, Exec-managerial, Prof-specialty, Handlers-cleaners, Machine-op-inspct, Adm-clerical, Farming-fishing, Transport-moving, Priv-house-serv, Protective-serv, Armed-Forces.',\n",
              " '  relationship: Wife, Own-child, Husband, Not-in-family, Other-relative, Unmarried.',\n",
              " '  race: White, Asian-Pac-Islander, Amer-Indian-Eskimo, Other, Black.',\n",
              " '  sex: Female, Male.',\n",
              " '  capital-gain: continuous.',\n",
              " '  capital-loss: continuous.',\n",
              " '  hours-per-week: continuous.',\n",
              " '  native-country: United-States, Cambodia, England, Puerto-Rico, Canada, Germany, Outlying-US(Guam-USVI-etc), India, Japan, Greece, South, China, Cuba, Iran, Honduras, Philippines, Italy, Poland, Jamaica, Vietnam, Mexico, Portugal, Ireland, France, Dominican-Republic, Laos, Ecuador, Taiwan, Haiti, Columbia, Hungary, Guatemala, Nicaragua, Scotland, Thailand, Yugoslavia, El-Salvador, Trinadad&Tobago, Peru, Hong, Holand-Netherlands.']"
            ]
          },
          "metadata": {},
          "execution_count": 17
        }
      ]
    },
    {
      "cell_type": "code",
      "metadata": {
        "id": "Ix2PoNEmGTI3",
        "outputId": "a2aedb75-58fb-4c25-aea4-4c84cf27ddb0",
        "colab": {
          "base_uri": "https://localhost:8080/"
        }
      },
      "source": [
        "header_list3=[]\n",
        "for item in header_list2:\n",
        "  header_info = item.split(\":\")\n",
        "  print(header_info[0])\n",
        "  header_list3.append(header_info[0])\n",
        "\n",
        "print(header_list3)\n"
      ],
      "execution_count": 22,
      "outputs": [
        {
          "output_type": "stream",
          "name": "stdout",
          "text": [
            "  age\n",
            "  workclass\n",
            "  fnlwgt\n",
            "  education\n",
            "  education-num\n",
            "  marital-status\n",
            "  occupation\n",
            "  relationship\n",
            "  race\n",
            "  sex\n",
            "  capital-gain\n",
            "  capital-loss\n",
            "  hours-per-week\n",
            "  native-country\n",
            "['  age', '  workclass', '  fnlwgt', '  education', '  education-num', '  marital-status', '  occupation', '  relationship', '  race', '  sex', '  capital-gain', '  capital-loss', '  hours-per-week', '  native-country']\n"
          ]
        }
      ]
    },
    {
      "cell_type": "markdown",
      "metadata": {
        "id": "zKHbFIQkLjiE"
      },
      "source": [
        "## 4. Python Dictionary"
      ]
    },
    {
      "cell_type": "code",
      "metadata": {
        "id": "cH03nXpoG3Xw",
        "outputId": "45bdcce3-631f-455b-b5c6-e6f86b84ca75",
        "colab": {
          "base_uri": "https://localhost:8080/"
        }
      },
      "source": [
        "x={\"age\":90}\n",
        "y={\"age\":50,\"last_name\":\"Noor\",\"gender\":\"female\"}\n",
        "\n",
        "print(x,y)\n"
      ],
      "execution_count": 36,
      "outputs": [
        {
          "output_type": "stream",
          "name": "stdout",
          "text": [
            "{'age': 90} {'age': 50, 'last_name': 'Noor', 'gender': 'female'}\n"
          ]
        }
      ]
    },
    {
      "cell_type": "code",
      "metadata": {
        "id": "mYIgnDdgJPJn",
        "outputId": "0866ccf9-70bb-49f1-e652-86f86ab1d5b6",
        "colab": {
          "base_uri": "https://localhost:8080/"
        }
      },
      "source": [
        "y[\"age\"]"
      ],
      "execution_count": 37,
      "outputs": [
        {
          "output_type": "execute_result",
          "data": {
            "text/plain": [
              "50"
            ]
          },
          "metadata": {},
          "execution_count": 37
        }
      ]
    },
    {
      "cell_type": "code",
      "metadata": {
        "id": "PJG2toFWMYlF",
        "outputId": "ae603ec1-5860-40cb-aec3-8e226b4b874b",
        "colab": {
          "base_uri": "https://localhost:8080/",
          "height": 35
        }
      },
      "source": [
        "y[\"gender\"]"
      ],
      "execution_count": 38,
      "outputs": [
        {
          "output_type": "execute_result",
          "data": {
            "application/vnd.google.colaboratory.intrinsic+json": {
              "type": "string"
            },
            "text/plain": [
              "'female'"
            ]
          },
          "metadata": {},
          "execution_count": 38
        }
      ]
    },
    {
      "cell_type": "code",
      "metadata": {
        "id": "qzl-2xxTMl8N",
        "outputId": "c61224c5-864a-4612-bad6-dfedb84aaaad",
        "colab": {
          "base_uri": "https://localhost:8080/"
        }
      },
      "source": [
        "header_list2"
      ],
      "execution_count": 39,
      "outputs": [
        {
          "output_type": "execute_result",
          "data": {
            "text/plain": [
              "['  age: continuous.',\n",
              " '  workclass: Private, Self-emp-not-inc, Self-emp-inc, Federal-gov, Local-gov, State-gov, Without-pay, Never-worked.',\n",
              " '  fnlwgt: continuous.',\n",
              " '  education: Bachelors, Some-college, 11th, HS-grad, Prof-school, Assoc-acdm, Assoc-voc, 9th, 7th-8th, 12th, Masters, 1st-4th, 10th, Doctorate, 5th-6th, Preschool.',\n",
              " '  education-num: continuous.',\n",
              " '  marital-status: Married-civ-spouse, Divorced, Never-married, Separated, Widowed, Married-spouse-absent, Married-AF-spouse.',\n",
              " '  occupation: Tech-support, Craft-repair, Other-service, Sales, Exec-managerial, Prof-specialty, Handlers-cleaners, Machine-op-inspct, Adm-clerical, Farming-fishing, Transport-moving, Priv-house-serv, Protective-serv, Armed-Forces.',\n",
              " '  relationship: Wife, Own-child, Husband, Not-in-family, Other-relative, Unmarried.',\n",
              " '  race: White, Asian-Pac-Islander, Amer-Indian-Eskimo, Other, Black.',\n",
              " '  sex: Female, Male.',\n",
              " '  capital-gain: continuous.',\n",
              " '  capital-loss: continuous.',\n",
              " '  hours-per-week: continuous.',\n",
              " '  native-country: United-States, Cambodia, England, Puerto-Rico, Canada, Germany, Outlying-US(Guam-USVI-etc), India, Japan, Greece, South, China, Cuba, Iran, Honduras, Philippines, Italy, Poland, Jamaica, Vietnam, Mexico, Portugal, Ireland, France, Dominican-Republic, Laos, Ecuador, Taiwan, Haiti, Columbia, Hungary, Guatemala, Nicaragua, Scotland, Thailand, Yugoslavia, El-Salvador, Trinadad&Tobago, Peru, Hong, Holand-Netherlands.']"
            ]
          },
          "metadata": {},
          "execution_count": 39
        }
      ]
    },
    {
      "cell_type": "code",
      "metadata": {
        "id": "yaBV_pJdMze5",
        "outputId": "dbd1be53-2d86-47ec-b4bd-1ff4fca41773",
        "colab": {
          "base_uri": "https://localhost:8080/"
        }
      },
      "source": [
        "a={}\n",
        "type(a)"
      ],
      "execution_count": 43,
      "outputs": [
        {
          "output_type": "execute_result",
          "data": {
            "text/plain": [
              "dict"
            ]
          },
          "metadata": {},
          "execution_count": 43
        }
      ]
    },
    {
      "cell_type": "markdown",
      "metadata": {
        "id": "6A1fYZAoNyw4"
      },
      "source": [
        "Tuple"
      ]
    },
    {
      "cell_type": "code",
      "metadata": {
        "id": "OE3zEaeJNCJx",
        "outputId": "7b0b2d61-d68a-41dc-a007-2efe3588410d",
        "colab": {
          "base_uri": "https://localhost:8080/"
        }
      },
      "source": [
        "c= (\"age\",90)\n",
        "c"
      ],
      "execution_count": 47,
      "outputs": [
        {
          "output_type": "execute_result",
          "data": {
            "text/plain": [
              "('age', 90)"
            ]
          },
          "metadata": {},
          "execution_count": 47
        }
      ]
    },
    {
      "cell_type": "code",
      "metadata": {
        "id": "n0TydahuN_Lo",
        "outputId": "8bceb0d0-bfff-45e1-a807-10a336d4e8d6",
        "colab": {
          "base_uri": "https://localhost:8080/"
        }
      },
      "source": [
        "a= dict([(\"age\",80)])\n",
        "a"
      ],
      "execution_count": 49,
      "outputs": [
        {
          "output_type": "execute_result",
          "data": {
            "text/plain": [
              "{'age': 80}"
            ]
          },
          "metadata": {},
          "execution_count": 49
        }
      ]
    },
    {
      "cell_type": "code",
      "metadata": {
        "id": "iGLLc5aPNTJ5",
        "outputId": "9fbc7552-b44c-48e7-9f6f-5900cb67ca3b",
        "colab": {
          "base_uri": "https://localhost:8080/"
        }
      },
      "source": [
        "a= dict([(\"age\",80),(\"last_name\",\"Noor\"),(\"gender\",\"female\")])\n",
        "a"
      ],
      "execution_count": 55,
      "outputs": [
        {
          "output_type": "execute_result",
          "data": {
            "text/plain": [
              "{'age': 80, 'gender': 'female', 'last_name': 'Noor'}"
            ]
          },
          "metadata": {},
          "execution_count": 55
        }
      ]
    },
    {
      "cell_type": "code",
      "metadata": {
        "id": "IIW32_h8OfJ_",
        "outputId": "9a04f3ce-7eb9-4beb-b669-69c6c8654fc9",
        "colab": {
          "base_uri": "https://localhost:8080/"
        }
      },
      "source": [
        "tuple_list=[]\n",
        "for item in header_list2:\n",
        "  header_info=item.split(\":\")\n",
        "  header_tuple= (header_info[0].strip(),header_info[1])\n",
        "  tuple_list.append(header_tuple)\n",
        "\n",
        "print(tuple_list)\n"
      ],
      "execution_count": 64,
      "outputs": [
        {
          "output_type": "stream",
          "name": "stdout",
          "text": [
            "[('age', ' continuous.'), ('workclass', ' Private, Self-emp-not-inc, Self-emp-inc, Federal-gov, Local-gov, State-gov, Without-pay, Never-worked.'), ('fnlwgt', ' continuous.'), ('education', ' Bachelors, Some-college, 11th, HS-grad, Prof-school, Assoc-acdm, Assoc-voc, 9th, 7th-8th, 12th, Masters, 1st-4th, 10th, Doctorate, 5th-6th, Preschool.'), ('education-num', ' continuous.'), ('marital-status', ' Married-civ-spouse, Divorced, Never-married, Separated, Widowed, Married-spouse-absent, Married-AF-spouse.'), ('occupation', ' Tech-support, Craft-repair, Other-service, Sales, Exec-managerial, Prof-specialty, Handlers-cleaners, Machine-op-inspct, Adm-clerical, Farming-fishing, Transport-moving, Priv-house-serv, Protective-serv, Armed-Forces.'), ('relationship', ' Wife, Own-child, Husband, Not-in-family, Other-relative, Unmarried.'), ('race', ' White, Asian-Pac-Islander, Amer-Indian-Eskimo, Other, Black.'), ('sex', ' Female, Male.'), ('capital-gain', ' continuous.'), ('capital-loss', ' continuous.'), ('hours-per-week', ' continuous.'), ('native-country', ' United-States, Cambodia, England, Puerto-Rico, Canada, Germany, Outlying-US(Guam-USVI-etc), India, Japan, Greece, South, China, Cuba, Iran, Honduras, Philippines, Italy, Poland, Jamaica, Vietnam, Mexico, Portugal, Ireland, France, Dominican-Republic, Laos, Ecuador, Taiwan, Haiti, Columbia, Hungary, Guatemala, Nicaragua, Scotland, Thailand, Yugoslavia, El-Salvador, Trinadad&Tobago, Peru, Hong, Holand-Netherlands.')]\n"
          ]
        }
      ]
    },
    {
      "cell_type": "code",
      "metadata": {
        "id": "74ugIB5GPd2J",
        "outputId": "e763f65e-6635-41b3-c79b-47050e1874c2",
        "colab": {
          "base_uri": "https://localhost:8080/"
        }
      },
      "source": [
        "header_dict=dict(tuple_list)\n",
        "print(header_dict)"
      ],
      "execution_count": 65,
      "outputs": [
        {
          "output_type": "stream",
          "name": "stdout",
          "text": [
            "{'age': ' continuous.', 'workclass': ' Private, Self-emp-not-inc, Self-emp-inc, Federal-gov, Local-gov, State-gov, Without-pay, Never-worked.', 'fnlwgt': ' continuous.', 'education': ' Bachelors, Some-college, 11th, HS-grad, Prof-school, Assoc-acdm, Assoc-voc, 9th, 7th-8th, 12th, Masters, 1st-4th, 10th, Doctorate, 5th-6th, Preschool.', 'education-num': ' continuous.', 'marital-status': ' Married-civ-spouse, Divorced, Never-married, Separated, Widowed, Married-spouse-absent, Married-AF-spouse.', 'occupation': ' Tech-support, Craft-repair, Other-service, Sales, Exec-managerial, Prof-specialty, Handlers-cleaners, Machine-op-inspct, Adm-clerical, Farming-fishing, Transport-moving, Priv-house-serv, Protective-serv, Armed-Forces.', 'relationship': ' Wife, Own-child, Husband, Not-in-family, Other-relative, Unmarried.', 'race': ' White, Asian-Pac-Islander, Amer-Indian-Eskimo, Other, Black.', 'sex': ' Female, Male.', 'capital-gain': ' continuous.', 'capital-loss': ' continuous.', 'hours-per-week': ' continuous.', 'native-country': ' United-States, Cambodia, England, Puerto-Rico, Canada, Germany, Outlying-US(Guam-USVI-etc), India, Japan, Greece, South, China, Cuba, Iran, Honduras, Philippines, Italy, Poland, Jamaica, Vietnam, Mexico, Portugal, Ireland, France, Dominican-Republic, Laos, Ecuador, Taiwan, Haiti, Columbia, Hungary, Guatemala, Nicaragua, Scotland, Thailand, Yugoslavia, El-Salvador, Trinadad&Tobago, Peru, Hong, Holand-Netherlands.'}\n"
          ]
        }
      ]
    },
    {
      "cell_type": "code",
      "metadata": {
        "id": "yNY4fynNQUsk"
      },
      "source": [
        ""
      ],
      "execution_count": null,
      "outputs": []
    }
  ]
}