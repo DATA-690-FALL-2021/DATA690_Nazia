{
  "nbformat": 4,
  "nbformat_minor": 0,
  "metadata": {
    "colab": {
      "name": "session_03_in_class.ipynb",
      "provenance": [],
      "authorship_tag": "ABX9TyMFY18wZwmS+8mk6uHswYMI",
      "include_colab_link": true
    },
    "kernelspec": {
      "name": "python3",
      "display_name": "Python 3"
    },
    "language_info": {
      "name": "python"
    }
  },
  "cells": [
    {
      "cell_type": "markdown",
      "metadata": {
        "id": "view-in-github",
        "colab_type": "text"
      },
      "source": [
        "<a href=\"https://colab.research.google.com/github/nazia-noor/DATA690_Nazia/blob/main/assignment_03/session_03_in_class.ipynb\" target=\"_parent\"><img src=\"https://colab.research.google.com/assets/colab-badge.svg\" alt=\"Open In Colab\"/></a>"
      ]
    },
    {
      "cell_type": "markdown",
      "metadata": {
        "id": "7Oo2A-lR8VG9"
      },
      "source": [
        "# Session 3 in class practice\n",
        "- NAZIA NOOR\n",
        "-September 16"
      ]
    },
    {
      "cell_type": "markdown",
      "metadata": {
        "id": "7PYKe4px825P"
      },
      "source": [
        "## 1.List Comprehension "
      ]
    },
    {
      "cell_type": "code",
      "metadata": {
        "colab": {
          "base_uri": "https://localhost:8080/"
        },
        "id": "reF9URgD8Ud1",
        "outputId": "17be5dc2-0b54-4f53-d058-38934086c8da"
      },
      "source": [
        "#This is traditional way using for loop\n",
        "x =[2,5,-7,10,12,]\n",
        "\n",
        "y=[]\n",
        "for i in x:\n",
        "  new_number= i+10\n",
        "  print(new_number)\n",
        "  y.append(new_number)\n",
        "\n",
        "print(y)\n"
      ],
      "execution_count": 6,
      "outputs": [
        {
          "output_type": "stream",
          "name": "stdout",
          "text": [
            "12\n",
            "15\n",
            "3\n",
            "20\n",
            "22\n",
            "[12, 15, 3, 20, 22]\n"
          ]
        }
      ]
    },
    {
      "cell_type": "code",
      "metadata": {
        "colab": {
          "base_uri": "https://localhost:8080/"
        },
        "id": "zWBsGEKY9E99",
        "outputId": "e0365fdd-46a4-4607-f788-0ae2e4d8ab61"
      },
      "source": [
        "# a new way using list comprehension\n",
        "\n",
        "y=[i+10 for i in x]\n",
        "print(y)"
      ],
      "execution_count": 8,
      "outputs": [
        {
          "output_type": "stream",
          "name": "stdout",
          "text": [
            "[12, 15, 3, 20, 22]\n"
          ]
        }
      ]
    },
    {
      "cell_type": "markdown",
      "metadata": {
        "id": "0rXekENB-1gd"
      },
      "source": [
        "## 2. User-defined Function"
      ]
    },
    {
      "cell_type": "markdown",
      "metadata": {
        "id": "ff3gy9mIARdY"
      },
      "source": [
        "Addition"
      ]
    },
    {
      "cell_type": "code",
      "metadata": {
        "id": "IXXFhx2Z-kJP"
      },
      "source": [
        "def addition(a,b):\n",
        "  return a+b"
      ],
      "execution_count": 17,
      "outputs": []
    },
    {
      "cell_type": "code",
      "metadata": {
        "colab": {
          "base_uri": "https://localhost:8080/"
        },
        "id": "myHsYqHQ_aK1",
        "outputId": "52631d98-6f52-4ef2-ebb2-4d01abc43451"
      },
      "source": [
        "y=addition(5,10)\n",
        "print(y)"
      ],
      "execution_count": 18,
      "outputs": [
        {
          "output_type": "stream",
          "name": "stdout",
          "text": [
            "15\n"
          ]
        }
      ]
    },
    {
      "cell_type": "markdown",
      "metadata": {
        "id": "nkAQvP5nAPg1"
      },
      "source": [
        "Division"
      ]
    },
    {
      "cell_type": "code",
      "metadata": {
        "id": "wrjSop3T_tqt"
      },
      "source": [
        "def division(a,b):\n",
        "  return a/b"
      ],
      "execution_count": 19,
      "outputs": []
    },
    {
      "cell_type": "code",
      "metadata": {
        "colab": {
          "base_uri": "https://localhost:8080/"
        },
        "id": "6VgsUqp7_-hW",
        "outputId": "94b6bf72-ba92-440c-8b60-f60b3d3372c4"
      },
      "source": [
        "x=division(10,2)\n",
        "x"
      ],
      "execution_count": 16,
      "outputs": [
        {
          "output_type": "execute_result",
          "data": {
            "text/plain": [
              "5.0"
            ]
          },
          "metadata": {},
          "execution_count": 16
        }
      ]
    },
    {
      "cell_type": "code",
      "metadata": {
        "id": "_AyO-QQNAD9d"
      },
      "source": [
        ""
      ],
      "execution_count": null,
      "outputs": []
    }
  ]
}