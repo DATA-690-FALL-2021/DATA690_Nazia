{
  "nbformat": 4,
  "nbformat_minor": 0,
  "metadata": {
    "colab": {
      "name": "assignment_3.ipynb",
      "provenance": [],
      "collapsed_sections": [],
      "authorship_tag": "ABX9TyMS6bvIS2rr+gmuTqJZVmqr",
      "include_colab_link": true
    },
    "kernelspec": {
      "name": "python3",
      "display_name": "Python 3"
    },
    "language_info": {
      "name": "python"
    }
  },
  "cells": [
    {
      "cell_type": "markdown",
      "metadata": {
        "id": "view-in-github",
        "colab_type": "text"
      },
      "source": [
        "<a href=\"https://colab.research.google.com/github/nazia-noor/DATA690_Nazia/blob/main/assignment_03/assignment_3.ipynb\" target=\"_parent\"><img src=\"https://colab.research.google.com/assets/colab-badge.svg\" alt=\"Open In Colab\"/></a>"
      ]
    },
    {
      "cell_type": "markdown",
      "metadata": {
        "id": "jze2Y3XAl1gw"
      },
      "source": [
        "## 1. Generates 100 random integers between 0 and 9 and print them in a 10 by 10 matrix "
      ]
    },
    {
      "cell_type": "code",
      "metadata": {
        "id": "tS3mVpMVbWli"
      },
      "source": [
        "import random"
      ],
      "execution_count": null,
      "outputs": []
    },
    {
      "cell_type": "code",
      "metadata": {
        "colab": {
          "base_uri": "https://localhost:8080/"
        },
        "id": "CwApO1Tuow02",
        "outputId": "d512d526-1c36-422b-eccd-8a29097f374f"
      },
      "source": [
        "for i in range(10):\n",
        "\n",
        "  for j in range(10):\n",
        "    x=random.randint(0,9)               \n",
        "    print (x,end=\" \")\n",
        "\n",
        "  print(\"\")\n"
      ],
      "execution_count": null,
      "outputs": [
        {
          "output_type": "stream",
          "name": "stdout",
          "text": [
            "1 3 7 9 1 6 6 3 0 8 \n",
            "6 2 0 5 3 4 6 2 8 0 \n",
            "5 3 4 8 9 2 2 4 8 4 \n",
            "4 3 1 2 5 0 7 4 8 4 \n",
            "6 5 9 5 0 8 1 4 3 4 \n",
            "9 8 0 5 4 9 5 2 3 1 \n",
            "2 4 1 6 3 3 5 0 6 5 \n",
            "9 4 1 2 0 1 5 9 9 9 \n",
            "1 2 5 1 4 0 2 7 7 4 \n",
            "5 8 1 3 7 4 1 2 6 5 \n"
          ]
        }
      ]
    },
    {
      "cell_type": "markdown",
      "metadata": {
        "id": "x6J5M4xjl393"
      },
      "source": [
        "## 2. Print \"@\" instead of random odd number"
      ]
    },
    {
      "cell_type": "code",
      "metadata": {
        "colab": {
          "base_uri": "https://localhost:8080/"
        },
        "id": "dY7ufA07t88b",
        "outputId": "a15ff90c-0ffc-4b74-b58a-d908ee86a775"
      },
      "source": [
        "for i in range(10):\n",
        "\n",
        "  for j in range(10):\n",
        "    \n",
        "    x=random.randint(0,9)\n",
        "    if x%2 == 1:\n",
        "      print(\"@\", end=\" \")\n",
        "    else:\n",
        "      print (x,end=\" \")\n",
        "\n",
        "  print(\"\")\n"
      ],
      "execution_count": null,
      "outputs": [
        {
          "output_type": "stream",
          "name": "stdout",
          "text": [
            "2 @ 4 2 4 0 @ @ @ 2 \n",
            "0 0 2 2 @ @ 0 @ @ 0 \n",
            "0 2 0 2 6 8 @ @ @ 6 \n",
            "@ @ @ @ @ 6 @ 2 8 @ \n",
            "8 @ @ @ 4 4 @ @ @ @ \n",
            "@ 2 4 0 2 @ @ @ @ 6 \n",
            "@ 8 2 @ @ 8 @ 6 @ 8 \n",
            "4 @ @ @ 0 4 @ @ @ @ \n",
            "@ @ 6 4 @ @ @ 0 8 4 \n",
            "@ 8 8 4 6 0 4 2 2 @ \n"
          ]
        }
      ]
    },
    {
      "cell_type": "markdown",
      "metadata": {
        "id": "_aEh6F_rl5W_"
      },
      "source": [
        "## 3. Calculate and Print the total of each row like  and use \"*\" to separate the total from the numbers"
      ]
    },
    {
      "cell_type": "code",
      "metadata": {
        "colab": {
          "base_uri": "https://localhost:8080/"
        },
        "id": "s1CSejprxxaf",
        "outputId": "2324870e-e8ef-4b31-a8c4-7dcc46be25ad"
      },
      "source": [
        "for i in range(10):\n",
        "  \n",
        "  sum=0\n",
        "  for j in range(10):\n",
        "    j=random.randint(0,9)  \n",
        "    print (j,end=\" \")\n",
        "    sum += j  \n",
        "    \n",
        "  print(\"*\",sum)\n",
        "  "
      ],
      "execution_count": null,
      "outputs": [
        {
          "output_type": "stream",
          "name": "stdout",
          "text": [
            "9 8 3 2 5 3 3 4 5 0 * 42\n",
            "7 1 2 2 3 5 3 6 1 5 * 35\n",
            "0 5 6 9 3 4 3 3 3 6 * 42\n",
            "6 5 7 0 3 1 8 3 6 3 * 42\n",
            "1 7 6 1 7 1 9 0 7 5 * 44\n",
            "4 8 2 9 3 6 3 9 8 9 * 61\n",
            "9 0 8 6 7 4 8 6 4 2 * 54\n",
            "9 8 8 6 4 4 9 0 8 3 * 59\n",
            "9 0 4 8 0 4 6 8 4 9 * 52\n",
            "8 1 5 9 2 7 7 5 4 2 * 50\n"
          ]
        }
      ]
    },
    {
      "cell_type": "markdown",
      "metadata": {
        "id": "YUBBCWW0l6pD"
      },
      "source": [
        "## 4. Optional: Surround the matrix with asterisks (*) "
      ]
    },
    {
      "cell_type": "code",
      "metadata": {
        "colab": {
          "base_uri": "https://localhost:8080/"
        },
        "id": "tp37mz3x2su1",
        "outputId": "1b4e6b6f-d9d7-48d3-943c-1d9929518acb"
      },
      "source": [
        "n=10\n",
        "\n",
        "for j in range(n+2):\n",
        "  print(\"*\", end=\" \")\n",
        "print()\n",
        "\n",
        "for i in range(10):\n",
        "  print(\"*\",end=\" \")\n",
        "  for j in range(10):\n",
        "    j=random.randint(0,9) \n",
        "    print (j,end= \" \" )\n",
        "  \n",
        "  print(\"*\")\n",
        "\n",
        "for j in range(n+2):\n",
        "  print(\"*\", end=\" \")\n"
      ],
      "execution_count": null,
      "outputs": [
        {
          "output_type": "stream",
          "name": "stdout",
          "text": [
            "* * * * * * * * * * * * \n",
            "* 6 3 9 9 1 4 8 7 2 4 *\n",
            "* 9 5 3 8 0 3 3 2 5 9 *\n",
            "* 9 9 3 4 0 4 0 8 0 6 *\n",
            "* 9 2 4 7 5 8 8 0 0 5 *\n",
            "* 5 1 2 8 1 6 2 7 2 6 *\n",
            "* 8 9 2 5 2 5 2 9 4 5 *\n",
            "* 4 0 7 3 9 1 1 8 5 3 *\n",
            "* 9 8 5 7 2 0 9 7 8 6 *\n",
            "* 7 7 8 1 6 5 9 4 5 0 *\n",
            "* 8 2 7 6 6 1 1 4 4 4 *\n",
            "* * * * * * * * * * * * "
          ]
        }
      ]
    },
    {
      "cell_type": "markdown",
      "metadata": {
        "id": "brwOEVecmLtl"
      },
      "source": [
        "## 5. Optional (challenging): Calculate and Print the total of each row and column and use \"*\" to separate the total from the numbers\n"
      ]
    },
    {
      "cell_type": "code",
      "metadata": {
        "id": "YfhzXZ8M1J6P"
      },
      "source": [
        "matrix=[]\n",
        "for i in range(10):\n",
        "  a=[]\n",
        "  for j in range(10):\n",
        "    j=random.randint(0,9)\n",
        "    a.append(j)\n",
        "  matrix.append(a)\n",
        "\n",
        "row=0\n",
        "col=0\n",
        "r=[]\n",
        "c=[]"
      ],
      "execution_count": null,
      "outputs": []
    },
    {
      "cell_type": "code",
      "metadata": {
        "colab": {
          "base_uri": "https://localhost:8080/"
        },
        "id": "Sjw63xfyrsrh",
        "outputId": "939400fd-5402-4f19-ad59-a3910a890af1"
      },
      "source": [
        "for i in range(10):\n",
        "\n",
        "  for j in range(10):\n",
        "    row= row+matrix[i][j]\n",
        "    col= col+matrix[j][i]\n",
        "  r.append(row)\n",
        "  c.append(col)\n",
        "  row=0\n",
        "  col=0\n",
        "\n",
        "for i in range(10):\n",
        "  \n",
        "  for j in range(10):\n",
        "    print(matrix[i][j],end=\"  \")\n",
        "  print(\"*\",r[i])\n",
        "  print()\n",
        "\n",
        "print(\"*  \" * 10,end=\"     \")\n",
        "print()\n",
        "\n",
        "for i in range(10):\n",
        "    print(c[i],end=\" \") "
      ],
      "execution_count": null,
      "outputs": [
        {
          "output_type": "stream",
          "name": "stdout",
          "text": [
            "8  5  5  8  7  9  6  8  4  2  * 62\n",
            "\n",
            "5  3  5  6  8  3  4  9  1  5  * 49\n",
            "\n",
            "6  5  9  8  7  3  2  6  6  2  * 54\n",
            "\n",
            "4  6  4  4  2  8  6  2  1  6  * 43\n",
            "\n",
            "8  1  2  9  3  2  1  9  2  7  * 44\n",
            "\n",
            "9  0  4  6  8  9  1  2  2  3  * 44\n",
            "\n",
            "0  7  0  6  9  1  1  7  8  5  * 44\n",
            "\n",
            "5  3  4  5  4  1  7  3  3  3  * 38\n",
            "\n",
            "4  6  1  5  7  3  7  7  3  6  * 49\n",
            "\n",
            "9  2  1  1  2  0  2  5  2  4  * 28\n",
            "\n",
            "*  *  *  *  *  *  *  *  *  *       \n",
            "58 38 35 58 57 39 37 58 32 43 "
          ]
        }
      ]
    },
    {
      "cell_type": "code",
      "metadata": {
        "id": "3FhFnNc9qmcv"
      },
      "source": [
        ""
      ],
      "execution_count": null,
      "outputs": []
    }
  ]
}