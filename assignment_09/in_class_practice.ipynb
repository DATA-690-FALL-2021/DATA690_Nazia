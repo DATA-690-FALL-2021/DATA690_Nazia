{
  "nbformat": 4,
  "nbformat_minor": 0,
  "metadata": {
    "colab": {
      "name": "in_class_practice.ipynb",
      "provenance": [],
      "authorship_tag": "ABX9TyM8hFxiB1G9pm+Z7rMXJM+q",
      "include_colab_link": true
    },
    "kernelspec": {
      "name": "python3",
      "display_name": "Python 3"
    },
    "language_info": {
      "name": "python"
    }
  },
  "cells": [
    {
      "cell_type": "markdown",
      "metadata": {
        "id": "view-in-github",
        "colab_type": "text"
      },
      "source": [
        "<a href=\"https://colab.research.google.com/github/nazia-noor/DATA690_Nazia/blob/main/assignment_09/in_class_practice.ipynb\" target=\"_parent\"><img src=\"https://colab.research.google.com/assets/colab-badge.svg\" alt=\"Open In Colab\"/></a>"
      ]
    },
    {
      "cell_type": "markdown",
      "metadata": {
        "id": "ua225RPcQ_kF"
      },
      "source": [
        "## In class Practice Week- 9\n",
        "\n",
        "- Name:Nazia Noor\n",
        "- Date- 28/10/21"
      ]
    },
    {
      "cell_type": "code",
      "metadata": {
        "id": "5G4vzO_FQ-z3"
      },
      "source": [
        "import math_function as mf"
      ],
      "execution_count": 1,
      "outputs": []
    },
    {
      "cell_type": "code",
      "metadata": {
        "colab": {
          "base_uri": "https://localhost:8080/"
        },
        "id": "sqD_7LP5RyZB",
        "outputId": "47a6923d-919f-4733-fbcc-1533e3b79270"
      },
      "source": [
        "a=input(\"enter a number:\")"
      ],
      "execution_count": 2,
      "outputs": [
        {
          "name": "stdout",
          "output_type": "stream",
          "text": [
            "enter a number:100\n"
          ]
        }
      ]
    },
    {
      "cell_type": "code",
      "metadata": {
        "colab": {
          "base_uri": "https://localhost:8080/"
        },
        "id": "gHDLWJ7VR_MI",
        "outputId": "26c8a0f1-5366-4210-c233-926d7ae49237"
      },
      "source": [
        "print (a)"
      ],
      "execution_count": 3,
      "outputs": [
        {
          "output_type": "stream",
          "name": "stdout",
          "text": [
            "100\n"
          ]
        }
      ]
    },
    {
      "cell_type": "code",
      "metadata": {
        "colab": {
          "base_uri": "https://localhost:8080/"
        },
        "id": "R2ukpZhASECG",
        "outputId": "74187fd8-b5f3-4895-a510-fb4635c6ce4c"
      },
      "source": [
        "b=input(\"enter a number:\")"
      ],
      "execution_count": 4,
      "outputs": [
        {
          "name": "stdout",
          "output_type": "stream",
          "text": [
            "enter a number:50\n"
          ]
        }
      ]
    },
    {
      "cell_type": "code",
      "metadata": {
        "colab": {
          "base_uri": "https://localhost:8080/"
        },
        "id": "YxkrCQmOSHW8",
        "outputId": "c5c9e0c8-1a00-49a1-f821-e73534bffda5"
      },
      "source": [
        "print (b)"
      ],
      "execution_count": 5,
      "outputs": [
        {
          "output_type": "stream",
          "name": "stdout",
          "text": [
            "50\n"
          ]
        }
      ]
    },
    {
      "cell_type": "code",
      "metadata": {
        "id": "L1DKPHPtSKs2"
      },
      "source": [
        "c= mf.addition(a,b)"
      ],
      "execution_count": 6,
      "outputs": []
    },
    {
      "cell_type": "code",
      "metadata": {
        "colab": {
          "base_uri": "https://localhost:8080/"
        },
        "id": "yXzLopzMSXVb",
        "outputId": "7054b49b-01ef-4513-b9e9-3daa92fb150d"
      },
      "source": [
        "print (c)"
      ],
      "execution_count": 7,
      "outputs": [
        {
          "output_type": "stream",
          "name": "stdout",
          "text": [
            "150\n"
          ]
        }
      ]
    },
    {
      "cell_type": "code",
      "metadata": {
        "colab": {
          "base_uri": "https://localhost:8080/"
        },
        "id": "bEnZYELbSYc3",
        "outputId": "9126ed05-bb44-427c-9331-148d5f67b7e0"
      },
      "source": [
        "a=23\n",
        "b=50\n",
        "\n",
        "c= mf.addition(a,b)\n",
        "\n",
        "print(c)"
      ],
      "execution_count": 8,
      "outputs": [
        {
          "output_type": "stream",
          "name": "stdout",
          "text": [
            "73\n"
          ]
        }
      ]
    }
  ]
}