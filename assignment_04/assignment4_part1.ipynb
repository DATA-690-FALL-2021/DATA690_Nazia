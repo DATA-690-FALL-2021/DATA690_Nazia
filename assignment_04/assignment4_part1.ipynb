{
  "nbformat": 4,
  "nbformat_minor": 0,
  "metadata": {
    "colab": {
      "name": "assignment4_part1.ipynb",
      "provenance": [],
      "collapsed_sections": [],
      "authorship_tag": "ABX9TyPkJCNEq16GTs9DdZAkogAA",
      "include_colab_link": true
    },
    "kernelspec": {
      "name": "python3",
      "display_name": "Python 3"
    },
    "language_info": {
      "name": "python"
    }
  },
  "cells": [
    {
      "cell_type": "markdown",
      "metadata": {
        "id": "view-in-github",
        "colab_type": "text"
      },
      "source": [
        "<a href=\"https://colab.research.google.com/github/nazia-noor/DATA690_Nazia/blob/main/assignment_04/assignment4_part1.ipynb\" target=\"_parent\"><img src=\"https://colab.research.google.com/assets/colab-badge.svg\" alt=\"Open In Colab\"/></a>"
      ]
    },
    {
      "cell_type": "markdown",
      "metadata": {
        "id": "_PIWkgSCy4Ik"
      },
      "source": [
        "## 1.Write code to open the text file census_costs.txt"
      ]
    },
    {
      "cell_type": "code",
      "metadata": {
        "id": "jQwCYJHGnz2b"
      },
      "source": [
        "import pandas as pd"
      ],
      "execution_count": 1,
      "outputs": []
    },
    {
      "cell_type": "code",
      "metadata": {
        "colab": {
          "base_uri": "https://localhost:8080/"
        },
        "id": "a1fa69Wijy7d",
        "outputId": "29f07a59-ac05-40ec-fe03-f4442ae8f8be"
      },
      "source": [
        "#read all lines into a list named \"line_list\" and Print line_list.\n",
        "\n",
        "with open(\"/content/census_costs.txt\",\"r\" ) as f:\n",
        "  line_list= f.readlines()  \n",
        "  \n",
        "print(line_list)"
      ],
      "execution_count": 2,
      "outputs": [
        {
          "output_type": "stream",
          "name": "stdout",
          "text": [
            "['Source: https://www.genealogybranches.com/censuscosts.html\\n', 'Census Year\\tTotal Population\\tCensus Cost\\tAverage Cost Per Person\\n', '1790\\t3,929,214\\t$44,377\\t1.13 cents\\n', '1800\\t5,308,483\\t$66,109\\t1.24 cents\\n', '1810\\t7,239,881\\t$178,445\\t2.46 cents\\n', '1820\\t9,633,822\\t$208,526\\t2.16 cents\\n', '1830\\t12,866,020\\t$378,545\\t2.94 cents\\n', '1840\\t17,069,458\\t$833,371\\t4.88 cents\\n', '1850\\t23,191,876\\t$1,423,351\\t6.14 cents\\n', '1860\\t31,443,321\\t$1,969,377\\t6.26 cents\\n', '1870\\t38,558,371\\t$3,421,198\\t8.87 cents\\n', '1880\\t50,155,783\\t$5,790,678\\t11.54 cents\\n', '1890\\t62,979,766\\t$11,547,127\\t18.33 cents\\n', '1900\\t76,303,387\\t$11,854,000\\t15.54 cents\\n', '1910\\t91,972,266\\t$15,968,000\\t17.07 cents\\n', '1920\\t105,710,620\\t$25,117,000\\t23.76 cents\\n', '1930\\t122,775,046\\t$40,156,000\\t32.71 cents\\n', '1940\\t131,669,275\\t$67,527,000\\t51.29 cents\\n', '1950\\t151,325,798\\t$91,462,000\\t60.44 cents\\n', '1960\\t179,323,175\\t$127,934,000\\t71.34 cents\\n', '1970\\t203,302,031\\t$247,653,000\\t$1.22\\n', '1980\\t226,542,199\\t$1,078,488,000\\t$4.76\\n', '1990\\t248,718,301\\t$2,492,830,000\\t$10.02\\n', '2000\\t281,421,906\\t$4.5 Billion\\t$15.99\\n', '2010*\\t308,745,538\\t$13 Billion\\t$42.11']\n"
          ]
        }
      ]
    },
    {
      "cell_type": "markdown",
      "metadata": {
        "id": "FPg9tODgzKtA"
      },
      "source": [
        "## 2.Extract the first two lines and put them in a different list "
      ]
    },
    {
      "cell_type": "code",
      "metadata": {
        "colab": {
          "base_uri": "https://localhost:8080/"
        },
        "id": "dGuiPmOuj9KD",
        "outputId": "a3c365d9-93d1-46ad-f478-770d22256963"
      },
      "source": [
        "top2_list = line_list[:2]\n",
        "top2_list"
      ],
      "execution_count": 3,
      "outputs": [
        {
          "output_type": "execute_result",
          "data": {
            "text/plain": [
              "['Source: https://www.genealogybranches.com/censuscosts.html\\n',\n",
              " 'Census Year\\tTotal Population\\tCensus Cost\\tAverage Cost Per Person\\n']"
            ]
          },
          "metadata": {},
          "execution_count": 3
        }
      ]
    },
    {
      "cell_type": "markdown",
      "metadata": {
        "id": "TFaeKWZIzZYO"
      },
      "source": [
        "## 3.Extract rest of the lines (containing useful data elements) in a new list"
      ]
    },
    {
      "cell_type": "code",
      "metadata": {
        "colab": {
          "base_uri": "https://localhost:8080/"
        },
        "id": "jc1IqlfInK3C",
        "outputId": "67d41a9d-bd7a-40fe-f06b-f884ba4972a9"
      },
      "source": [
        "data_list= line_list[2:]\n",
        "data_list"
      ],
      "execution_count": 4,
      "outputs": [
        {
          "output_type": "execute_result",
          "data": {
            "text/plain": [
              "['1790\\t3,929,214\\t$44,377\\t1.13 cents\\n',\n",
              " '1800\\t5,308,483\\t$66,109\\t1.24 cents\\n',\n",
              " '1810\\t7,239,881\\t$178,445\\t2.46 cents\\n',\n",
              " '1820\\t9,633,822\\t$208,526\\t2.16 cents\\n',\n",
              " '1830\\t12,866,020\\t$378,545\\t2.94 cents\\n',\n",
              " '1840\\t17,069,458\\t$833,371\\t4.88 cents\\n',\n",
              " '1850\\t23,191,876\\t$1,423,351\\t6.14 cents\\n',\n",
              " '1860\\t31,443,321\\t$1,969,377\\t6.26 cents\\n',\n",
              " '1870\\t38,558,371\\t$3,421,198\\t8.87 cents\\n',\n",
              " '1880\\t50,155,783\\t$5,790,678\\t11.54 cents\\n',\n",
              " '1890\\t62,979,766\\t$11,547,127\\t18.33 cents\\n',\n",
              " '1900\\t76,303,387\\t$11,854,000\\t15.54 cents\\n',\n",
              " '1910\\t91,972,266\\t$15,968,000\\t17.07 cents\\n',\n",
              " '1920\\t105,710,620\\t$25,117,000\\t23.76 cents\\n',\n",
              " '1930\\t122,775,046\\t$40,156,000\\t32.71 cents\\n',\n",
              " '1940\\t131,669,275\\t$67,527,000\\t51.29 cents\\n',\n",
              " '1950\\t151,325,798\\t$91,462,000\\t60.44 cents\\n',\n",
              " '1960\\t179,323,175\\t$127,934,000\\t71.34 cents\\n',\n",
              " '1970\\t203,302,031\\t$247,653,000\\t$1.22\\n',\n",
              " '1980\\t226,542,199\\t$1,078,488,000\\t$4.76\\n',\n",
              " '1990\\t248,718,301\\t$2,492,830,000\\t$10.02\\n',\n",
              " '2000\\t281,421,906\\t$4.5 Billion\\t$15.99\\n',\n",
              " '2010*\\t308,745,538\\t$13 Billion\\t$42.11']"
            ]
          },
          "metadata": {},
          "execution_count": 4
        }
      ]
    },
    {
      "cell_type": "markdown",
      "metadata": {
        "id": "QOdgICpPpG8q"
      },
      "source": [
        "## 4.Extract the column \"Census Year\" from data_list and clean it"
      ]
    },
    {
      "cell_type": "code",
      "metadata": {
        "id": "EbGwZsPVo4fn"
      },
      "source": [
        "#for i in range(len(line_list)):\n",
        " # print(line_list[i], sep='\\t')"
      ],
      "execution_count": 5,
      "outputs": []
    },
    {
      "cell_type": "code",
      "metadata": {
        "colab": {
          "base_uri": "https://localhost:8080/"
        },
        "id": "7Odm_IcuqGJF",
        "outputId": "0f5a7695-a184-4cee-dad0-d7722b50b617"
      },
      "source": [
        "year_list= [line.split(\"\\t\")[0].strip(\"*\") for line in data_list]\n",
        "year_list\n"
      ],
      "execution_count": 6,
      "outputs": [
        {
          "output_type": "execute_result",
          "data": {
            "text/plain": [
              "['1790',\n",
              " '1800',\n",
              " '1810',\n",
              " '1820',\n",
              " '1830',\n",
              " '1840',\n",
              " '1850',\n",
              " '1860',\n",
              " '1870',\n",
              " '1880',\n",
              " '1890',\n",
              " '1900',\n",
              " '1910',\n",
              " '1920',\n",
              " '1930',\n",
              " '1940',\n",
              " '1950',\n",
              " '1960',\n",
              " '1970',\n",
              " '1980',\n",
              " '1990',\n",
              " '2000',\n",
              " '2010']"
            ]
          },
          "metadata": {},
          "execution_count": 6
        }
      ]
    },
    {
      "cell_type": "markdown",
      "metadata": {
        "id": "m0U9yJxYsP0s"
      },
      "source": [
        "## 5.Extract the \"Total Population\" column from the data_list and clean it(removing commas)\n"
      ]
    },
    {
      "cell_type": "code",
      "metadata": {
        "colab": {
          "base_uri": "https://localhost:8080/"
        },
        "id": "Ow5gkhZ9rbJA",
        "outputId": "b821776a-1641-469f-afb3-8c09b1ca1f6c"
      },
      "source": [
        "pop_list=[line.split(\"\\t\")[1] for line in data_list]\n",
        "pop_list=[i.replace(\",\", \"\") for i in pop_list]\n",
        "print(pop_list)"
      ],
      "execution_count": 7,
      "outputs": [
        {
          "output_type": "stream",
          "name": "stdout",
          "text": [
            "['3929214', '5308483', '7239881', '9633822', '12866020', '17069458', '23191876', '31443321', '38558371', '50155783', '62979766', '76303387', '91972266', '105710620', '122775046', '131669275', '151325798', '179323175', '203302031', '226542199', '248718301', '281421906', '308745538']\n"
          ]
        }
      ]
    },
    {
      "cell_type": "markdown",
      "metadata": {
        "id": "NXd0lJgV0go9"
      },
      "source": [
        "## 6. Extract the \"Census Cost\" column from the data_list and clean it. Remove the \",\", and \"$\", and \"Billion\". Make sure to add the \"0\"s to the numbers from which you removed \"Billion\". Print the cleansed cost_list."
      ]
    },
    {
      "cell_type": "markdown",
      "metadata": {
        "id": "1nRJ4KvCt3JC"
      },
      "source": [
        "Extract the \"Census Cost\" column from the data_list and assign them to a list named \"cost_list\". Remove the \",\", and \"$\", and \"Billion\". Make sure to add the \"0\"s to the numbers from which you removed \"Billion\". Print the cleansed cost_list."
      ]
    },
    {
      "cell_type": "code",
      "metadata": {
        "colab": {
          "base_uri": "https://localhost:8080/"
        },
        "id": "mnPr3I3arhwo",
        "outputId": "69e11a7e-60b2-4ed3-b097-248a634f28cc"
      },
      "source": [
        "#Remove the \",\" and \"$\"\n",
        "cost_list=[line.split(\"\\t\")[2] for line in data_list]\n",
        "cost_list=[i.replace(\",\", \"\").replace(\"$\",\"\") for i in cost_list]\n",
        "print(cost_list)"
      ],
      "execution_count": 8,
      "outputs": [
        {
          "output_type": "stream",
          "name": "stdout",
          "text": [
            "['44377', '66109', '178445', '208526', '378545', '833371', '1423351', '1969377', '3421198', '5790678', '11547127', '11854000', '15968000', '25117000', '40156000', '67527000', '91462000', '127934000', '247653000', '1078488000', '2492830000', '4.5 Billion', '13 Billion']\n"
          ]
        }
      ]
    },
    {
      "cell_type": "code",
      "metadata": {
        "colab": {
          "base_uri": "https://localhost:8080/"
        },
        "id": "_ulwZWZjwjrY",
        "outputId": "75054ab9-2a16-482a-e774-45c1f356b758"
      },
      "source": [
        "#Remove \"Billion\" and add necessary zero instead of billion\n",
        "for i in range(len(cost_list)):\n",
        "  if \"Billion\" in cost_list[i]:\n",
        "    cost_list[i]=cost_list[i].replace(\" Billion\",\"\")\n",
        "    cost_list[i]=(float(cost_list[i]))*(1000000000)\n",
        "  cost_list[i]=int(cost_list[i])\n",
        "cost_list"
      ],
      "execution_count": 9,
      "outputs": [
        {
          "output_type": "execute_result",
          "data": {
            "text/plain": [
              "[44377,\n",
              " 66109,\n",
              " 178445,\n",
              " 208526,\n",
              " 378545,\n",
              " 833371,\n",
              " 1423351,\n",
              " 1969377,\n",
              " 3421198,\n",
              " 5790678,\n",
              " 11547127,\n",
              " 11854000,\n",
              " 15968000,\n",
              " 25117000,\n",
              " 40156000,\n",
              " 67527000,\n",
              " 91462000,\n",
              " 127934000,\n",
              " 247653000,\n",
              " 1078488000,\n",
              " 2492830000,\n",
              " 4500000000,\n",
              " 13000000000]"
            ]
          },
          "metadata": {},
          "execution_count": 9
        }
      ]
    },
    {
      "cell_type": "markdown",
      "metadata": {
        "id": "WJiO0A8M33WZ"
      },
      "source": [
        "## 7.Extract the \"Average Cost per Person\" column from the data_list and assign them to a  new list."
      ]
    },
    {
      "cell_type": "code",
      "metadata": {
        "colab": {
          "base_uri": "https://localhost:8080/"
        },
        "id": "Tf5ZKzP6wdws",
        "outputId": "16befb01-1a59-4165-8d2b-724dace29888"
      },
      "source": [
        "# Remove the \"cents\" and \"\\n\" . \n",
        "x=[line.split(\"\\t\")[-1].replace(\" cents\",\"\").replace(\"\\n\",\"\") for line in data_list]\n",
        "\n",
        "print(x)"
      ],
      "execution_count": 10,
      "outputs": [
        {
          "output_type": "stream",
          "name": "stdout",
          "text": [
            "['1.13', '1.24', '2.46', '2.16', '2.94', '4.88', '6.14', '6.26', '8.87', '11.54', '18.33', '15.54', '17.07', '23.76', '32.71', '51.29', '60.44', '71.34', '$1.22', '$4.76', '$10.02', '$15.99', '$42.11']\n"
          ]
        }
      ]
    },
    {
      "cell_type": "markdown",
      "metadata": {
        "id": "anqGJtk915hq"
      },
      "source": [
        "Convert cents to dollar divide \n"
      ]
    },
    {
      "cell_type": "code",
      "metadata": {
        "id": "Smh_fBhcDEcA"
      },
      "source": [
        "list1=x[:-5]\n",
        "list2=x[-5:]"
      ],
      "execution_count": 11,
      "outputs": []
    },
    {
      "cell_type": "code",
      "metadata": {
        "colab": {
          "base_uri": "https://localhost:8080/"
        },
        "id": "pVfW7j0UFSBE",
        "outputId": "1e5180d9-a0e9-4a43-dc97-75bf7b140260"
      },
      "source": [
        "#remove \"$\" \n",
        "final_list2=[i.replace(\"$\",\"\") for i in list2]\n",
        "final_list2"
      ],
      "execution_count": 12,
      "outputs": [
        {
          "output_type": "execute_result",
          "data": {
            "text/plain": [
              "['1.22', '4.76', '10.02', '15.99', '42.11']"
            ]
          },
          "metadata": {},
          "execution_count": 12
        }
      ]
    },
    {
      "cell_type": "code",
      "metadata": {
        "colab": {
          "base_uri": "https://localhost:8080/"
        },
        "id": "HK8NhI0D399E",
        "outputId": "b5376a08-9073-4ce3-f86d-a49b1f22cabe"
      },
      "source": [
        "# Converting cent to dollar\n",
        "for i in range(len(list1)):\n",
        "  list1[i] = float(list1[i])\n",
        "  list1[i] = list1[i]/100\n",
        "  final_list1 = list1\n",
        "print(final_list1)"
      ],
      "execution_count": 13,
      "outputs": [
        {
          "output_type": "stream",
          "name": "stdout",
          "text": [
            "[0.0113, 0.0124, 0.0246, 0.0216, 0.0294, 0.048799999999999996, 0.061399999999999996, 0.0626, 0.08869999999999999, 0.11539999999999999, 0.1833, 0.15539999999999998, 0.1707, 0.2376, 0.3271, 0.5129, 0.6043999999999999, 0.7134]\n"
          ]
        }
      ]
    },
    {
      "cell_type": "code",
      "metadata": {
        "id": "BMHw7VWQ82WU",
        "colab": {
          "base_uri": "https://localhost:8080/"
        },
        "outputId": "22493cec-a3ac-4a6b-b339-386149170b42"
      },
      "source": [
        "# Cleansed average list\n",
        "avg_list=final_list1+final_list2\n",
        "avg_list"
      ],
      "execution_count": 14,
      "outputs": [
        {
          "output_type": "execute_result",
          "data": {
            "text/plain": [
              "[0.0113,\n",
              " 0.0124,\n",
              " 0.0246,\n",
              " 0.0216,\n",
              " 0.0294,\n",
              " 0.048799999999999996,\n",
              " 0.061399999999999996,\n",
              " 0.0626,\n",
              " 0.08869999999999999,\n",
              " 0.11539999999999999,\n",
              " 0.1833,\n",
              " 0.15539999999999998,\n",
              " 0.1707,\n",
              " 0.2376,\n",
              " 0.3271,\n",
              " 0.5129,\n",
              " 0.6043999999999999,\n",
              " 0.7134,\n",
              " '1.22',\n",
              " '4.76',\n",
              " '10.02',\n",
              " '15.99',\n",
              " '42.11']"
            ]
          },
          "metadata": {},
          "execution_count": 14
        }
      ]
    },
    {
      "cell_type": "markdown",
      "metadata": {
        "id": "ylM8E8_E3med"
      },
      "source": [
        "## 8. Coalesce the cleansed data and save them to a text file named \"census_cost.csv\"."
      ]
    },
    {
      "cell_type": "code",
      "metadata": {
        "id": "_-5X1_CKEJ-9"
      },
      "source": [
        "final_list=[list(a) for a in zip(year_list, pop_list, cost_list, avg_list)]"
      ],
      "execution_count": 15,
      "outputs": []
    },
    {
      "cell_type": "code",
      "metadata": {
        "id": "qvc69ykPJn_a"
      },
      "source": [
        "with open('/content/census_cost.csv', 'w') as f:\n",
        "    for item in top2_list:\n",
        "        f.write(item)"
      ],
      "execution_count": 16,
      "outputs": []
    },
    {
      "cell_type": "markdown",
      "metadata": {
        "id": "moowRCTJ3zP-"
      },
      "source": [
        "## 9. Write code to open the newly-created file \"census_cost.csv\", read all lines and display them."
      ]
    },
    {
      "cell_type": "code",
      "metadata": {
        "id": "glQ57T-TLEGw"
      },
      "source": [
        "for i in range(len(final_list)) :\n",
        "  for j in range(len(final_list[i])) :\n",
        "        print(final_list[i][j], end=\" \",  file=open(\"census_cost.csv\", \"a\"))\n",
        "  print(\"\\n\",file=open(\"census_cost.csv\", \"a\") )"
      ],
      "execution_count": 17,
      "outputs": []
    },
    {
      "cell_type": "code",
      "metadata": {
        "colab": {
          "base_uri": "https://localhost:8080/"
        },
        "id": "SuT6Ql2XLIn-",
        "outputId": "777b7694-137a-4b16-ebf4-27e0182b7f3f"
      },
      "source": [
        "with open(\"/content/census_cost.csv\",'r') as f1:\n",
        "   new_csv =f1 .readlines()\n",
        "print(new_csv)\n",
        " "
      ],
      "execution_count": 18,
      "outputs": [
        {
          "output_type": "stream",
          "name": "stdout",
          "text": [
            "['Source: https://www.genealogybranches.com/censuscosts.html\\n', 'Census Year\\tTotal Population\\tCensus Cost\\tAverage Cost Per Person\\n', '1790 3929214 44377 0.0113 \\n', '\\n', '1800 5308483 66109 0.0124 \\n', '\\n', '1810 7239881 178445 0.0246 \\n', '\\n', '1820 9633822 208526 0.0216 \\n', '\\n', '1830 12866020 378545 0.0294 \\n', '\\n', '1840 17069458 833371 0.048799999999999996 \\n', '\\n', '1850 23191876 1423351 0.061399999999999996 \\n', '\\n', '1860 31443321 1969377 0.0626 \\n', '\\n', '1870 38558371 3421198 0.08869999999999999 \\n', '\\n', '1880 50155783 5790678 0.11539999999999999 \\n', '\\n', '1890 62979766 11547127 0.1833 \\n', '\\n', '1900 76303387 11854000 0.15539999999999998 \\n', '\\n', '1910 91972266 15968000 0.1707 \\n', '\\n', '1920 105710620 25117000 0.2376 \\n', '\\n', '1930 122775046 40156000 0.3271 \\n', '\\n', '1940 131669275 67527000 0.5129 \\n', '\\n', '1950 151325798 91462000 0.6043999999999999 \\n', '\\n', '1960 179323175 127934000 0.7134 \\n', '\\n', '1970 203302031 247653000 1.22 \\n', '\\n', '1980 226542199 1078488000 4.76 \\n', '\\n', '1990 248718301 2492830000 10.02 \\n', '\\n', '2000 281421906 4500000000 15.99 \\n', '\\n', '2010 308745538 13000000000 42.11 \\n', '\\n']\n"
          ]
        }
      ]
    },
    {
      "cell_type": "code",
      "metadata": {
        "id": "rrLTxyOCLLpT"
      },
      "source": [
        ""
      ],
      "execution_count": 18,
      "outputs": []
    }
  ]
}